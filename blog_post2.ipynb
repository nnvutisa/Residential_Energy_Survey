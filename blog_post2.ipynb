{
 "cells": [
  {
   "cell_type": "markdown",
   "metadata": {
    "deletable": true,
    "editable": true
   },
   "source": [
    "In the last post, we explore the residential energy survey data. Now, we will build linear regression models to predict annual housing unit energy consumption based on housing characteristics, household member characteristics, and usage of appliances.  "
   ]
  },
  {
   "cell_type": "code",
   "execution_count": 1,
   "metadata": {
    "collapsed": true,
    "deletable": true,
    "editable": true
   },
   "outputs": [],
   "source": [
    "import numpy as np\n",
    "import pandas as pd\n",
    "import matplotlib.pyplot as plt\n",
    "import seaborn as sns\n",
    "import math"
   ]
  },
  {
   "cell_type": "code",
   "execution_count": 2,
   "metadata": {
    "collapsed": true,
    "deletable": true,
    "editable": true
   },
   "outputs": [],
   "source": [
    "#Read the data file\n",
    "data = pd.read_csv('recs2009_public.csv')"
   ]
  },
  {
   "cell_type": "code",
   "execution_count": 3,
   "metadata": {
    "collapsed": false,
    "deletable": true,
    "editable": true
   },
   "outputs": [
    {
     "data": {
      "text/plain": [
       "(12083, 931)"
      ]
     },
     "execution_count": 3,
     "metadata": {},
     "output_type": "execute_result"
    }
   ],
   "source": [
    "data.shape"
   ]
  },
  {
   "cell_type": "markdown",
   "metadata": {
    "deletable": true,
    "editable": true
   },
   "source": [
    "### Preprocessing"
   ]
  },
  {
   "cell_type": "markdown",
   "metadata": {
    "deletable": true,
    "editable": true
   },
   "source": [
    "The raw data contains 931 columns. These columns are a mixed of different types of data. We need to process these columns into forms that can be used in a regression model. The full dataset contains columns with values derived from models, which we will not be using. We only want to include data directly from the surveys. So, we first select the columns and  seperate them into appropriate categories. For this project, we will seperate them into data on housing, members, and appliances. The features will also be separated into categorical data (qualitative) and numerical (quantitative)."
   ]
  },
  {
   "cell_type": "markdown",
   "metadata": {
    "deletable": true,
    "editable": true
   },
   "source": [
    "The column were separated and their names are put in a file to be read into a python dictionary. "
   ]
  },
  {
   "cell_type": "code",
   "execution_count": 3,
   "metadata": {
    "collapsed": true,
    "deletable": true,
    "editable": true
   },
   "outputs": [],
   "source": [
    "#Reading column list from a file into a dict\n",
    "\n",
    "column_list = {}\n",
    "with open('columns_list2.txt') as f:\n",
    "    lines = [line.rstrip() for line in f] \n",
    "lines = filter(None, lines)\n",
    "\n",
    "for line in lines:\n",
    "    col_name, list_txt = line.strip().replace(' ','').split('=')\n",
    "    column_list[col_name] = list_txt.replace('[','').replace(']','').split(',')"
   ]
  },
  {
   "cell_type": "code",
   "execution_count": 5,
   "metadata": {
    "collapsed": false,
    "deletable": true,
    "editable": true
   },
   "outputs": [
    {
     "name": "stdout",
     "output_type": "stream",
     "text": [
      "app_bin 84\n",
      "house_quant 37\n",
      "mem_bin 18\n",
      "app_quant 46\n",
      "app_qual 96\n",
      "mem_qual 8\n",
      "mem_quant 5\n",
      "house_bin 78\n",
      "house_qual 56\n"
     ]
    }
   ],
   "source": [
    "for k,v in column_list.iteritems():\n",
    "    print k, len(v)"
   ]
  },
  {
   "cell_type": "markdown",
   "metadata": {
    "deletable": true,
    "editable": true
   },
   "source": [
    "Some of the features contain values with a flag of -2 (not applicable). We will convert these values to zero. "
   ]
  },
  {
   "cell_type": "code",
   "execution_count": 4,
   "metadata": {
    "collapsed": true,
    "deletable": true,
    "editable": true
   },
   "outputs": [],
   "source": [
    "#Deal with N/A entries for quantitative features and binary features\n",
    "def convert_na(df, col):   \n",
    "    arr = df[col].values\n",
    "    arr[np.where(arr == -2)] = 0\n",
    "    df.loc[:,col] = arr\n",
    "    return df"
   ]
  },
  {
   "cell_type": "markdown",
   "metadata": {
    "deletable": true,
    "editable": true
   },
   "source": [
    "Next, we will need to transform the categorical data into something that can be used in a model. Each categorical columns will need to be converted to multiple columns each corresponding to a single label with values of 1/0 (one-hot encoding). We are dropping the first label for each column."
   ]
  },
  {
   "cell_type": "code",
   "execution_count": 5,
   "metadata": {
    "collapsed": true,
    "deletable": true,
    "editable": true
   },
   "outputs": [],
   "source": [
    "#Encoding Categorical data\n",
    "def encode_qual(df,qual_col):\n",
    "    return pd.get_dummies(df,columns=qual_col,prefix=qual_col,drop_first=True)"
   ]
  },
  {
   "cell_type": "markdown",
   "metadata": {
    "deletable": true,
    "editable": true
   },
   "source": [
    "Put all the preprocessing steps together."
   ]
  },
  {
   "cell_type": "code",
   "execution_count": 6,
   "metadata": {
    "collapsed": true,
    "deletable": true,
    "editable": true
   },
   "outputs": [],
   "source": [
    "def preprocess(df, qual_col,quant_col,bin_col):\n",
    "    df = convert_na(df,quant_col+bin_col)\n",
    "    df = encode_qual(df,qual_col)\n",
    "    return df"
   ]
  },
  {
   "cell_type": "markdown",
   "metadata": {
    "deletable": true,
    "editable": true
   },
   "source": [
    "Let's also define an error used to evaluate a model. Write a function to calculate the root-mean-square error.  "
   ]
  },
  {
   "cell_type": "code",
   "execution_count": 7,
   "metadata": {
    "collapsed": true,
    "deletable": true,
    "editable": true
   },
   "outputs": [],
   "source": [
    "#function for calculating error\n",
    "def rms_error(y_pred,y_true):\n",
    "    se = (y_pred - y_true)**2\n",
    "    mse = np.mean(se)\n",
    "    error =  math.sqrt(mse)\n",
    "    print 'RMSE:', error\n",
    "    return (se,error)\n",
    "se_arr = {}\n",
    "rmse = {}"
   ]
  },
  {
   "cell_type": "markdown",
   "metadata": {
    "deletable": true,
    "editable": true
   },
   "source": [
    "It will also be useful to define a function to calculate the correlation coefficients."
   ]
  },
  {
   "cell_type": "code",
   "execution_count": 8,
   "metadata": {
    "collapsed": true,
    "deletable": true,
    "editable": true
   },
   "outputs": [],
   "source": [
    "from scipy.stats.stats import pearsonr\n",
    "\n",
    "#Calculate and print the Pearson correlation coefficient and the coresponding p-values\n",
    "def calculate_rho(df,quant_col):\n",
    "    for col in quant_col:\n",
    "        corcoef = pearsonr(df[col],data['KWH'])\n",
    "        print \"%s: %8.2f P-value: %8.2f\" % (col,corcoef[0],corcoef[1])"
   ]
  },
  {
   "cell_type": "markdown",
   "metadata": {
    "deletable": true,
    "editable": true
   },
   "source": [
    "### Benchmarking: First Linear Regression Model"
   ]
  },
  {
   "cell_type": "code",
   "execution_count": 9,
   "metadata": {
    "collapsed": true,
    "deletable": true,
    "editable": true
   },
   "outputs": [],
   "source": [
    "from sklearn.linear_model import LinearRegression\n",
    "from sklearn.model_selection import train_test_split"
   ]
  },
  {
   "cell_type": "markdown",
   "metadata": {
    "deletable": true,
    "editable": true
   },
   "source": [
    "We start off by performing a regression using only a few main features. The columns selected are year made, number of household members, total square footage, climate region, and type of housing. "
   ]
  },
  {
   "cell_type": "code",
   "execution_count": 12,
   "metadata": {
    "collapsed": true,
    "deletable": true,
    "editable": true
   },
   "outputs": [],
   "source": [
    "#selecting columns\n",
    "quant_col = ['YEARMADE','NHSLDMEM','TOTSQFT_EN']\n",
    "qual_col = ['Climate_Region_Pub','TYPEHUQ']\n",
    "bin_col = []"
   ]
  },
  {
   "cell_type": "code",
   "execution_count": 13,
   "metadata": {
    "collapsed": false,
    "deletable": true,
    "editable": true
   },
   "outputs": [
    {
     "name": "stderr",
     "output_type": "stream",
     "text": [
      "/Users/pear/anaconda/lib/python2.7/site-packages/pandas/core/indexing.py:128: SettingWithCopyWarning: \n",
      "A value is trying to be set on a copy of a slice from a DataFrame\n",
      "\n",
      "See the caveats in the documentation: http://pandas.pydata.org/pandas-docs/stable/indexing.html#indexing-view-versus-copy\n",
      "  self._setitem_with_indexer(indexer, value)\n",
      "/Users/pear/anaconda/lib/python2.7/site-packages/ipykernel/__main__.py:5: SettingWithCopyWarning: \n",
      "A value is trying to be set on a copy of a slice from a DataFrame\n",
      "\n",
      "See the caveats in the documentation: http://pandas.pydata.org/pandas-docs/stable/indexing.html#indexing-view-versus-copy\n"
     ]
    }
   ],
   "source": [
    "#create a new dataframe with these columns\n",
    "df = data[quant_col+qual_col]\n",
    "\n",
    "#preprocessing\n",
    "df = preprocess(df,qual_col,quant_col,bin_col)"
   ]
  },
  {
   "cell_type": "code",
   "execution_count": 14,
   "metadata": {
    "collapsed": false,
    "deletable": true,
    "editable": true
   },
   "outputs": [
    {
     "data": {
      "text/html": [
       "<div>\n",
       "<table border=\"1\" class=\"dataframe\">\n",
       "  <thead>\n",
       "    <tr style=\"text-align: right;\">\n",
       "      <th></th>\n",
       "      <th>YEARMADE</th>\n",
       "      <th>NHSLDMEM</th>\n",
       "      <th>TOTSQFT_EN</th>\n",
       "      <th>Climate_Region_Pub_2</th>\n",
       "      <th>Climate_Region_Pub_3</th>\n",
       "    </tr>\n",
       "  </thead>\n",
       "  <tbody>\n",
       "    <tr>\n",
       "      <th>0</th>\n",
       "      <td>2004</td>\n",
       "      <td>4</td>\n",
       "      <td>4675</td>\n",
       "      <td>0.0</td>\n",
       "      <td>0.0</td>\n",
       "    </tr>\n",
       "    <tr>\n",
       "      <th>1</th>\n",
       "      <td>1998</td>\n",
       "      <td>6</td>\n",
       "      <td>2736</td>\n",
       "      <td>0.0</td>\n",
       "      <td>0.0</td>\n",
       "    </tr>\n",
       "    <tr>\n",
       "      <th>2</th>\n",
       "      <td>1965</td>\n",
       "      <td>1</td>\n",
       "      <td>528</td>\n",
       "      <td>0.0</td>\n",
       "      <td>0.0</td>\n",
       "    </tr>\n",
       "  </tbody>\n",
       "</table>\n",
       "</div>"
      ],
      "text/plain": [
       "   YEARMADE  NHSLDMEM  TOTSQFT_EN  Climate_Region_Pub_2  Climate_Region_Pub_3\n",
       "0      2004         4        4675                   0.0                   0.0\n",
       "1      1998         6        2736                   0.0                   0.0\n",
       "2      1965         1         528                   0.0                   0.0"
      ]
     },
     "execution_count": 14,
     "metadata": {},
     "output_type": "execute_result"
    }
   ],
   "source": [
    "df.iloc[:3,:5]"
   ]
  },
  {
   "cell_type": "code",
   "execution_count": 15,
   "metadata": {
    "collapsed": false,
    "deletable": true,
    "editable": true
   },
   "outputs": [
    {
     "name": "stdout",
     "output_type": "stream",
     "text": [
      "YEARMADE:     0.21 P-value:     0.00\n",
      "NHSLDMEM:     0.27 P-value:     0.00\n",
      "TOTSQFT_EN:     0.38 P-value:     0.00\n"
     ]
    }
   ],
   "source": [
    "calculate_rho(df,quant_col)"
   ]
  },
  {
   "cell_type": "markdown",
   "metadata": {
    "deletable": true,
    "editable": true
   },
   "source": [
    "All the correlation coefficients are positive but not very large. All of the p-values are less than 0.01. They are all significant (using the confidence level of 0.05), which is to be expected considering the large number of samples we have."
   ]
  },
  {
   "cell_type": "markdown",
   "metadata": {
    "deletable": true,
    "editable": true
   },
   "source": [
    "Split the dataset into a train and a test set."
   ]
  },
  {
   "cell_type": "code",
   "execution_count": 16,
   "metadata": {
    "collapsed": true,
    "deletable": true,
    "editable": true
   },
   "outputs": [],
   "source": [
    "X = df.values\n",
    "y = data['KWH'].values\n",
    "X_train, X_test, y_train, y_test = train_test_split(X, y, test_size=0.2, random_state=42)"
   ]
  },
  {
   "cell_type": "code",
   "execution_count": 17,
   "metadata": {
    "collapsed": false,
    "deletable": true,
    "editable": true
   },
   "outputs": [
    {
     "data": {
      "text/plain": [
       "LinearRegression(copy_X=True, fit_intercept=True, n_jobs=1, normalize=False)"
      ]
     },
     "execution_count": 17,
     "metadata": {},
     "output_type": "execute_result"
    }
   ],
   "source": [
    "#Perform linear regression\n",
    "clf = LinearRegression()\n",
    "clf.fit(X_train,y_train)"
   ]
  },
  {
   "cell_type": "code",
   "execution_count": 18,
   "metadata": {
    "collapsed": false,
    "deletable": true,
    "editable": true
   },
   "outputs": [
    {
     "name": "stdout",
     "output_type": "stream",
     "text": [
      "Train set r^2: 0.336684215441\n",
      "Test set r^2: 0.346478847929\n"
     ]
    }
   ],
   "source": [
    "print 'Train set r^2:', clf.score(X_train,y_train)\n",
    "print 'Test set r^2:', clf.score(X_test,y_test)"
   ]
  },
  {
   "cell_type": "code",
   "execution_count": 19,
   "metadata": {
    "collapsed": false,
    "deletable": true,
    "editable": true
   },
   "outputs": [
    {
     "name": "stdout",
     "output_type": "stream",
     "text": [
      "RMSE: 5746.03164747\n"
     ]
    }
   ],
   "source": [
    "se_arr['BM_LR'], rmse['BM_LR'] = rms_error(clf.predict(X_test),y_test)"
   ]
  },
  {
   "cell_type": "markdown",
   "metadata": {
    "deletable": true,
    "editable": true
   },
   "source": [
    "That is our first benchmark with a linear regression using only 5 features. "
   ]
  },
  {
   "cell_type": "markdown",
   "metadata": {
    "deletable": true,
    "editable": true
   },
   "source": [
    "### Feature Selection"
   ]
  },
  {
   "cell_type": "markdown",
   "metadata": {
    "deletable": true,
    "editable": true
   },
   "source": [
    "Since we have a lot of features and we are interested in seeing what features are important, we will perform some feature selections. There are many ways to select features. We will start with a simple univariate method by calculating feature importance for each of the feature seperately. We can then test how the linear regression does against the number of features included in the model.  "
   ]
  },
  {
   "cell_type": "markdown",
   "metadata": {
    "deletable": true,
    "editable": true
   },
   "source": [
    "We are going to rank the features by performing a univariate statistical test using f_regression from sklearn. f_regression calculates the F-score (and the associated p-value) between the feature and the target variable. Since this is a univariate test (only using one feature at a time), it won't take into account how one feature affect any other features. This is ok since we will also be testing the regression model against the number of features.    "
   ]
  },
  {
   "cell_type": "markdown",
   "metadata": {
    "deletable": true,
    "editable": true
   },
   "source": [
    "First, write a function to rank the features in order of importance according to the F-score. We are using SelectKBest to perform f_regression for us. "
   ]
  },
  {
   "cell_type": "code",
   "execution_count": 10,
   "metadata": {
    "collapsed": true,
    "deletable": true,
    "editable": true
   },
   "outputs": [],
   "source": [
    "from sklearn.feature_selection import SelectKBest\n",
    "from sklearn.feature_selection import f_regression"
   ]
  },
  {
   "cell_type": "code",
   "execution_count": 11,
   "metadata": {
    "collapsed": true,
    "deletable": true,
    "editable": true
   },
   "outputs": [],
   "source": [
    "def order_features(df_train,y_train, df_test):\n",
    "    #Using SelectKBest to calculate f-value and p-value for each feature (ignore the k value, we won't do a fit)\n",
    "    KBest = SelectKBest(f_regression,k=100)\n",
    "    KBest.fit(df_train.values,y_train)\n",
    "    \n",
    "    #Create a Dataframe to store KBest result\n",
    "    KBest_df = pd.DataFrame(index=df_train.columns)\n",
    "    KBest_df['score'] = KBest.scores_\n",
    "    KBest_df['p_value'] = KBest.pvalues_\n",
    "    KBest_df = KBest_df.sort_values(by='score',ascending=False)\n",
    "    \n",
    "    print KBest_df.head(10)\n",
    "    \n",
    "    #order the columns by f-score\n",
    "    df_train = df_train[KBest_df.index]\n",
    "    df_test = df_test[KBest_df.index]\n",
    "    return df_train, df_test"
   ]
  },
  {
   "cell_type": "markdown",
   "metadata": {
    "deletable": true,
    "editable": true
   },
   "source": [
    "Next, we test how linear regression does with numbers of features. "
   ]
  },
  {
   "cell_type": "code",
   "execution_count": 12,
   "metadata": {
    "collapsed": true,
    "deletable": true,
    "editable": true
   },
   "outputs": [],
   "source": [
    "def compare_nfeatures(df_train, y_train):\n",
    "    #Compare models with k features and return train and test scores in the CV sets\n",
    "    k_list = range(10,240,10) \n",
    "    train_score = []\n",
    "    test_score = []\n",
    "\n",
    "    X_train = df_train.values\n",
    "    for k in k_list:\n",
    "        #Need to evaluate on a CV set, so wee need to split the training set again\n",
    "        X_CV_train, X_CV_test, y_CV_train, y_CV_test = train_test_split(\n",
    "                    X_train[:,:k], y_train, test_size=0.3, random_state=34)\n",
    "        clf = LinearRegression()\n",
    "        clf.fit(X_CV_train,y_CV_train)\n",
    "        train_score.append(clf.score(X_CV_train,y_CV_train))\n",
    "        test_score.append(clf.score(X_CV_test,y_CV_test))\n",
    "    return pd.Series(train_score,index=k_list), pd.Series(test_score,index=k_list)"
   ]
  },
  {
   "cell_type": "markdown",
   "metadata": {
    "deletable": true,
    "editable": true
   },
   "source": [
    "Finishing feature selection by selecting the top k_best features. You can choose a method to select how many features you want. You can select a certain percentage, use a cutoff threshold, or select the number with the best test score. For now, we will select the value of k_best when including more features only improves the score by less than 0.5%. "
   ]
  },
  {
   "cell_type": "code",
   "execution_count": 13,
   "metadata": {
    "collapsed": true,
    "deletable": true,
    "editable": true
   },
   "outputs": [],
   "source": [
    "def select_features(df_train,df_test,test_score):\n",
    "    for i in range(len(test_score)-5):\n",
    "        if np.abs(test_score.iloc[i+5]-test_score.iloc[i]) < 0.005*test_score.iloc[i]:\n",
    "            break\n",
    "    k_best = test_score.index[i]\n",
    "    print 'k_best:', k_best\n",
    "    \n",
    "    #select the top k_best features\n",
    "    df_train = df_train.iloc[:,:k_best]\n",
    "    df_test = df_test.iloc[:,:k_best]\n",
    "    return df_train, df_test"
   ]
  },
  {
   "cell_type": "markdown",
   "metadata": {
    "deletable": true,
    "editable": true
   },
   "source": [
    "### Modeling"
   ]
  },
  {
   "cell_type": "markdown",
   "metadata": {
    "deletable": true,
    "editable": true
   },
   "source": [
    "#### Selecting Housing Characteristics"
   ]
  },
  {
   "cell_type": "markdown",
   "metadata": {
    "deletable": true,
    "editable": true
   },
   "source": [
    "We are now ready to do linear regression. First, we will only include housing features."
   ]
  },
  {
   "cell_type": "code",
   "execution_count": 29,
   "metadata": {
    "collapsed": false,
    "deletable": true,
    "editable": true
   },
   "outputs": [],
   "source": [
    "qual_col = column_list['house_qual']\n",
    "quant_col = column_list['house_quant']\n",
    "bin_col = column_list['house_bin']\n",
    "\n",
    "df = data[qual_col+quant_col+bin_col]\n",
    "df = preprocess(df, qual_col,quant_col,bin_col)"
   ]
  },
  {
   "cell_type": "markdown",
   "metadata": {
    "deletable": true,
    "editable": true
   },
   "source": [
    "Split the data into a train and test sets. Note that we are only interested in seeing the performance of the model. We will not use the testing error to do model selection, which would require a CV set.  "
   ]
  },
  {
   "cell_type": "code",
   "execution_count": 30,
   "metadata": {
    "collapsed": false,
    "deletable": true,
    "editable": true
   },
   "outputs": [],
   "source": [
    "df_train, df_test, y_train, y_test = train_test_split(df, data['KWH'], test_size=0.2, random_state=42)"
   ]
  },
  {
   "cell_type": "markdown",
   "metadata": {
    "deletable": true,
    "editable": true
   },
   "source": [
    "Perform feature selection and print out a list of top 10 features. "
   ]
  },
  {
   "cell_type": "code",
   "execution_count": 31,
   "metadata": {
    "collapsed": false,
    "deletable": true,
    "editable": true
   },
   "outputs": [
    {
     "name": "stdout",
     "output_type": "stream",
     "text": [
      "                  score        p_value\n",
      "TOTCSQFT    2977.889669   0.000000e+00\n",
      "TOTROOMS    2252.422979   0.000000e+00\n",
      "NCOMBATH    2149.771423   0.000000e+00\n",
      "BEDROOMS    1991.384449   0.000000e+00\n",
      "TOTHSQFT    1965.187009   0.000000e+00\n",
      "TOTSQFT     1681.280228   0.000000e+00\n",
      "TOTSQFT_EN  1621.664784   0.000000e+00\n",
      "OTHROOMS    1355.666314  7.662338e-278\n",
      "ELWATER     1284.766872  2.753209e-264\n",
      "PELHOTWA_1  1212.495648  2.232746e-250\n",
      "k_best: 140\n"
     ]
    }
   ],
   "source": [
    "df_train, df_test = order_features(df_train, y_train, df_test)\n",
    "train_score, test_score = compare_nfeatures(df_train, y_train)\n",
    "df_train, df_test = select_features(df_train,df_test,test_score)"
   ]
  },
  {
   "cell_type": "code",
   "execution_count": 32,
   "metadata": {
    "collapsed": true
   },
   "outputs": [],
   "source": [
    "def plot_nfeatures(train_score, test_score):\n",
    "    #plot the scores\n",
    "    fig, ax = plt.subplots(figsize=[8,6])\n",
    "    ax.set_xlabel('Number of Features',size=16)\n",
    "    ax.set_ylabel('$r^2$ Score',size=16)\n",
    "    ax.xaxis.grid(b=False)\n",
    "    ax.plot(train_score.index,train_score,'b--',label='Train Score')\n",
    "    ax.plot(test_score.index, test_score,'r-',label='Test Score')\n",
    "    ax.legend(loc=4,fontsize=14)"
   ]
  },
  {
   "cell_type": "code",
   "execution_count": 33,
   "metadata": {
    "collapsed": true
   },
   "outputs": [],
   "source": [
    "sns.set_style('whitegrid')\n",
    "plot_nfeatures(train_score,test_score)\n",
    "plt.savefig('nfeatures_house.png',bbox_inches='tight')"
   ]
  },
  {
   "cell_type": "markdown",
   "metadata": {
    "deletable": true,
    "editable": true
   },
   "source": [
    "Now that we have preprocessed the data and selected the features, we are ready to do regression. Since we have a large dataset (compared to the number of features), we are not overly concerned with overfitting. However, some of the features are expected to correlate. So we will perform a Ridge regression (penalized linear regression). RidgeCV method from sklearn perform Ridge regression with a built-in cross-validation for selecting the hyperparameter alpha. "
   ]
  },
  {
   "cell_type": "code",
   "execution_count": 34,
   "metadata": {
    "collapsed": true,
    "deletable": true,
    "editable": true
   },
   "outputs": [],
   "source": [
    "from sklearn.linear_model import RidgeCV"
   ]
  },
  {
   "cell_type": "code",
   "execution_count": 35,
   "metadata": {
    "collapsed": false,
    "deletable": true,
    "editable": true
   },
   "outputs": [
    {
     "data": {
      "text/plain": [
       "0.56862340497980668"
      ]
     },
     "execution_count": 35,
     "metadata": {},
     "output_type": "execute_result"
    }
   ],
   "source": [
    "#Fitting Ridge Regression\n",
    "X_train = df_train.values\n",
    "X_test = df_test.values\n",
    "clf = RidgeCV(normalize=True, alphas=[0.01,0.1,1,10,100])\n",
    "clf.fit(df_train.values, y_train.values)\n",
    "clf.score(X_test,y_test)"
   ]
  },
  {
   "cell_type": "markdown",
   "metadata": {
    "deletable": true,
    "editable": true
   },
   "source": [
    "Using housing features gives up a model that explains about 57% of the variance in the energy consumption data. "
   ]
  },
  {
   "cell_type": "code",
   "execution_count": 36,
   "metadata": {
    "collapsed": false,
    "deletable": true,
    "editable": true
   },
   "outputs": [
    {
     "name": "stdout",
     "output_type": "stream",
     "text": [
      "RMSE: 4668.38299418\n"
     ]
    }
   ],
   "source": [
    "se_arr['House_LR'], rmse['House_LR'] = rms_error(clf.predict(X_test),y_test)"
   ]
  },
  {
   "cell_type": "markdown",
   "metadata": {
    "deletable": true,
    "editable": true
   },
   "source": [
    "#### Adding household members data"
   ]
  },
  {
   "cell_type": "markdown",
   "metadata": {
    "deletable": true,
    "editable": true
   },
   "source": [
    "Now, let's add the features on household members data into the model. These features provide information on things such as a number of household members in a housing unit, an age of the main household member, annual income, etc. "
   ]
  },
  {
   "cell_type": "code",
   "execution_count": 37,
   "metadata": {
    "collapsed": true,
    "deletable": true,
    "editable": true
   },
   "outputs": [],
   "source": [
    "qual_col = column_list['house_qual']+column_list['mem_qual']\n",
    "quant_col = column_list['house_quant']+column_list['mem_quant']\n",
    "bin_col = column_list['house_bin']+column_list['mem_bin']\n",
    "\n",
    "df = data[qual_col+quant_col+bin_col]\n",
    "df = preprocess(df, qual_col,quant_col,bin_col)"
   ]
  },
  {
   "cell_type": "code",
   "execution_count": 38,
   "metadata": {
    "collapsed": true,
    "deletable": true,
    "editable": true
   },
   "outputs": [],
   "source": [
    "df_train, df_test, y_train, y_test = train_test_split(df, data['KWH'], test_size=0.2, random_state=42)"
   ]
  },
  {
   "cell_type": "code",
   "execution_count": 39,
   "metadata": {
    "collapsed": false,
    "deletable": true,
    "editable": true
   },
   "outputs": [
    {
     "name": "stdout",
     "output_type": "stream",
     "text": [
      "                  score        p_value\n",
      "TOTCSQFT    2977.889669   0.000000e+00\n",
      "TOTROOMS    2252.422979   0.000000e+00\n",
      "NCOMBATH    2149.771423   0.000000e+00\n",
      "BEDROOMS    1991.384449   0.000000e+00\n",
      "TOTHSQFT    1965.187009   0.000000e+00\n",
      "TOTSQFT     1681.280228   0.000000e+00\n",
      "TOTSQFT_EN  1621.664784   0.000000e+00\n",
      "OTHROOMS    1355.666314  7.662338e-278\n",
      "ELWATER     1284.766872  2.753209e-264\n",
      "PELHOTWA_1  1212.495648  2.232746e-250\n",
      "k_best: 170\n"
     ]
    }
   ],
   "source": [
    "df_train, df_test = order_features(df_train, y_train, df_test)\n",
    "train_score, test_score = compare_nfeatures(df_train, y_train)\n",
    "df_train, df_test = select_features(df_train,df_test,test_score)"
   ]
  },
  {
   "cell_type": "code",
   "execution_count": 40,
   "metadata": {
    "collapsed": true
   },
   "outputs": [],
   "source": [
    "plot_nfeatures(train_score,test_score)\n",
    "plt.savefig('nfeatures_housemem.png',bbox_inches='tight')"
   ]
  },
  {
   "cell_type": "code",
   "execution_count": 41,
   "metadata": {
    "collapsed": false,
    "deletable": true,
    "editable": true
   },
   "outputs": [
    {
     "data": {
      "text/plain": [
       "0.59215681838711032"
      ]
     },
     "execution_count": 41,
     "metadata": {},
     "output_type": "execute_result"
    }
   ],
   "source": [
    "#Fitting Ridge Regression\n",
    "X_train = df_train.values\n",
    "X_test = df_test.values\n",
    "clf = RidgeCV(normalize=True, alphas=[0.01,0.1,1,10,100])\n",
    "clf.fit(df_train.values, y_train.values)\n",
    "clf.score(X_test,y_test)"
   ]
  },
  {
   "cell_type": "code",
   "execution_count": 42,
   "metadata": {
    "collapsed": false,
    "deletable": true,
    "editable": true
   },
   "outputs": [
    {
     "name": "stdout",
     "output_type": "stream",
     "text": [
      "RMSE: 4539.25721299\n"
     ]
    }
   ],
   "source": [
    "se_arr['HouseMem_LR'], rmse['HouseMem_LR'] = rms_error(clf.predict(X_test),y_test)"
   ]
  },
  {
   "cell_type": "markdown",
   "metadata": {
    "deletable": true,
    "editable": true
   },
   "source": [
    "#### Adding Appliances Data"
   ]
  },
  {
   "cell_type": "markdown",
   "metadata": {
    "deletable": true,
    "editable": true
   },
   "source": [
    "The last category of features to add is appliance usage. These features describe the number of some common appliances in a housing unit, the frequency of using them, and other characteristics. "
   ]
  },
  {
   "cell_type": "code",
   "execution_count": 43,
   "metadata": {
    "collapsed": false,
    "deletable": true,
    "editable": true
   },
   "outputs": [],
   "source": [
    "qual_col = column_list['house_qual']+column_list['mem_qual']+column_list['app_qual']\n",
    "quant_col = column_list['house_quant']+column_list['mem_quant']+column_list['app_quant']\n",
    "bin_col = column_list['house_bin']+column_list['mem_bin']+column_list['app_bin']\n",
    "\n",
    "df = data[qual_col+quant_col+bin_col]\n",
    "df = preprocess(df, qual_col,quant_col,bin_col)"
   ]
  },
  {
   "cell_type": "code",
   "execution_count": 44,
   "metadata": {
    "collapsed": true,
    "deletable": true,
    "editable": true
   },
   "outputs": [],
   "source": [
    "df_train, df_test, y_train, y_test = train_test_split(df, data['KWH'], test_size=0.2, random_state=42)"
   ]
  },
  {
   "cell_type": "code",
   "execution_count": 45,
   "metadata": {
    "collapsed": false,
    "deletable": true,
    "editable": true
   },
   "outputs": [
    {
     "name": "stdout",
     "output_type": "stream",
     "text": [
      "                score  p_value\n",
      "TOTCSQFT  2977.889669      0.0\n",
      "ACROOMS   2459.774465      0.0\n",
      "TOTROOMS  2252.422979      0.0\n",
      "NCOMBATH  2149.771423      0.0\n",
      "BEDROOMS  1991.384449      0.0\n",
      "TOTHSQFT  1965.187009      0.0\n",
      "HEATROOM  1870.469154      0.0\n",
      "WASHLOAD  1706.033221      0.0\n",
      "NUMCFAN   1704.815905      0.0\n",
      "TOTSQFT   1681.280228      0.0\n",
      "k_best: 140\n"
     ]
    }
   ],
   "source": [
    "df_train, df_test = order_features(df_train, y_train, df_test)\n",
    "train_score, test_score = compare_nfeatures(df_train, y_train)\n",
    "df_train, df_test = select_features(df_train,df_test,test_score)"
   ]
  },
  {
   "cell_type": "code",
   "execution_count": 46,
   "metadata": {
    "collapsed": true
   },
   "outputs": [],
   "source": [
    "plot_nfeatures(train_score,test_score)\n",
    "plt.savefig('nfeatures_housememapp.png',bbox_inches='tight')"
   ]
  },
  {
   "cell_type": "code",
   "execution_count": 47,
   "metadata": {
    "collapsed": false,
    "deletable": true,
    "editable": true
   },
   "outputs": [
    {
     "data": {
      "text/plain": [
       "0.63199030738745399"
      ]
     },
     "execution_count": 47,
     "metadata": {},
     "output_type": "execute_result"
    }
   ],
   "source": [
    "#Fitting Ridge Regression\n",
    "X_train = df_train.values\n",
    "X_test = df_test.values\n",
    "clf = RidgeCV(normalize=True, alphas=[0.01,0.1,1,10,100])\n",
    "clf.fit(df_train.values, y_train.values)\n",
    "clf.score(X_test,y_test)"
   ]
  },
  {
   "cell_type": "code",
   "execution_count": 48,
   "metadata": {
    "collapsed": false,
    "deletable": true,
    "editable": true
   },
   "outputs": [
    {
     "name": "stdout",
     "output_type": "stream",
     "text": [
      "RMSE: 4311.8914379\n"
     ]
    }
   ],
   "source": [
    "se_arr['HouseMemApp_LR'], rmse['HouseMemApp_LR'] = rms_error(clf.predict(X_test),y_test)"
   ]
  },
  {
   "cell_type": "markdown",
   "metadata": {
    "collapsed": true,
    "deletable": true,
    "editable": true
   },
   "source": [
    "Checking the linear assumption by plotting residuals of the top few features. "
   ]
  },
  {
   "cell_type": "code",
   "execution_count": 44,
   "metadata": {
    "collapsed": false,
    "deletable": true,
    "editable": true
   },
   "outputs": [],
   "source": [
    "residual = y_test - clf.predict(X_test)\n",
    "\n",
    "fig, axarr = plt.subplots(2,2,figsize=[8,10])\n",
    "for i in range(4):\n",
    "    axarr.flatten()[i].set_xlabel(df_train.columns[i])\n",
    "    axarr.flatten()[i].scatter(X_test[:,i],residual,alpha=0.2)\n",
    "    \n",
    "plt.savefig('residual.png', bbox_inches='tight')"
   ]
  },
  {
   "cell_type": "markdown",
   "metadata": {
    "deletable": true,
    "editable": true
   },
   "source": [
    "The residual plots look good for at least these four features. "
   ]
  },
  {
   "cell_type": "markdown",
   "metadata": {
    "deletable": true,
    "editable": true
   },
   "source": [
    "The linear model can be used to examine a relationship between a single feature and the annual energy consumption. For example, using electricity for water heaters increases the annual electricity consumption by about 1900 KWH (about 17% of the mean KWH). Housing units that pay for their own AC (or water heating) have smaller KWH. However, to be more robust about the interpretations we would have to be more careful dealing with multicollinearities between the features. "
   ]
  },
  {
   "cell_type": "markdown",
   "metadata": {
    "deletable": true,
    "editable": true
   },
   "source": [
    "### Other Models"
   ]
  },
  {
   "cell_type": "markdown",
   "metadata": {
    "deletable": true,
    "editable": true
   },
   "source": [
    "Our linear regression model using the values directly as features is very useful in providing insights into relationships between these features and the energy consumption. In this section, we will see if we can improve on the prediction error. "
   ]
  },
  {
   "cell_type": "markdown",
   "metadata": {
    "deletable": true,
    "editable": true
   },
   "source": [
    "#### Log-Transform"
   ]
  },
  {
   "cell_type": "markdown",
   "metadata": {
    "deletable": true,
    "editable": true
   },
   "source": [
    "Some of the quantitative features show a possibly skewed distribution as seen in the exploratory data analysis (the first post). This includes our target variable, KWH. While the variables do not need to have a normal distribution to be valid for linear regression, linear regression is sensitive to outliers. A log-transformation can help with the outliers and will change the relationship in the linear regression model. "
   ]
  },
  {
   "cell_type": "markdown",
   "metadata": {
    "deletable": true,
    "editable": true
   },
   "source": [
    "We will first check for the skewness of the distributions for the quantitative data, ignoring discrete columns where values can only take up few values. "
   ]
  },
  {
   "cell_type": "code",
   "execution_count": 45,
   "metadata": {
    "collapsed": false,
    "deletable": true,
    "editable": true
   },
   "outputs": [],
   "source": [
    "from scipy.stats import skew\n",
    "\n",
    "#Check skewness\n",
    "def check_skew(df, quant_col):\n",
    "    #filter out columns with discrete values \n",
    "    quant_col = [col for col in quant_col if df[col].nunique()>100]\n",
    "    #calculate skewness\n",
    "    high_skew_col = [col for col in quant_col if abs(skew(df[col]) > 1)]\n",
    "    return high_skew_col\n",
    "\n",
    "#log transform skewed columns\n",
    "def take_log(df, skewed_col):\n",
    "    for col in skewed_col:\n",
    "        df.loc[:,col] = df[col].map(np.log1p)\n",
    "    return df"
   ]
  },
  {
   "cell_type": "code",
   "execution_count": 46,
   "metadata": {
    "collapsed": false,
    "deletable": true,
    "editable": true
   },
   "outputs": [],
   "source": [
    "skewed_col = check_skew(df, quant_col)\n",
    "df = take_log(df, skewed_col)"
   ]
  },
  {
   "cell_type": "code",
   "execution_count": 47,
   "metadata": {
    "collapsed": true,
    "deletable": true,
    "editable": true
   },
   "outputs": [],
   "source": [
    "#split train, test set and log-transforms KWH\n",
    "df_train, df_test, y_train, y_test = train_test_split(df, data['KWH'].map(np.log1p), test_size=0.2, random_state=42)"
   ]
  },
  {
   "cell_type": "markdown",
   "metadata": {
    "deletable": true,
    "editable": true
   },
   "source": [
    "We will keep all the features for this model and perform Ridge regression."
   ]
  },
  {
   "cell_type": "code",
   "execution_count": 48,
   "metadata": {
    "collapsed": false,
    "deletable": true,
    "editable": true
   },
   "outputs": [
    {
     "data": {
      "text/plain": [
       "0.68361512628251098"
      ]
     },
     "execution_count": 48,
     "metadata": {},
     "output_type": "execute_result"
    }
   ],
   "source": [
    "#Fitting Ridge Regression\n",
    "X_train = df_train.values\n",
    "X_test = df_test.values\n",
    "clf = RidgeCV(normalize=True, alphas=[0.01,0.1,1,10,100])\n",
    "clf.fit(df_train.values, y_train.values)\n",
    "clf.score(X_test,y_test)"
   ]
  },
  {
   "cell_type": "code",
   "execution_count": 49,
   "metadata": {
    "collapsed": false,
    "deletable": true,
    "editable": true
   },
   "outputs": [
    {
     "name": "stdout",
     "output_type": "stream",
     "text": [
      "RMSE: 4193.01525083\n"
     ]
    }
   ],
   "source": [
    "#convert log_KWH back to KWH and calculate the RMS error\n",
    "y_predicted = np.exp(clf.predict(X_test))-1\n",
    "y_true = np.exp(y_test)-1\n",
    "se_arr['Log_SLR'], rmse['Log_SLR'] = rms_error(y_predicted,y_true)"
   ]
  },
  {
   "cell_type": "markdown",
   "metadata": {
    "deletable": true,
    "editable": true
   },
   "source": [
    "The performance is better than our previous model. Here is a plot of square errors from different models. The ramdom forest regression model (see the code on Github) performs worse than linear regression, which supports the assumption of a linear relationship. "
   ]
  },
  {
   "cell_type": "code",
   "execution_count": 52,
   "metadata": {
    "collapsed": false,
    "deletable": true,
    "editable": true
   },
   "outputs": [
    {
     "data": {
      "text/plain": [
       "['HouseMem_LR', 'Log_SLR', 'BM_LR', 'HouseMemApp_LR', 'House_LR']"
      ]
     },
     "execution_count": 52,
     "metadata": {},
     "output_type": "execute_result"
    }
   ],
   "source": [
    "se_arr.keys()"
   ]
  },
  {
   "cell_type": "code",
   "execution_count": 94,
   "metadata": {
    "collapsed": false,
    "deletable": true,
    "editable": true
   },
   "outputs": [
    {
     "data": {
      "image/png": "[encoded data removed]",
      "text/plain": [
       "<matplotlib.figure.Figure at 0x12b992850>"
      ]
     },
     "metadata": {},
     "output_type": "display_data"
    }
   ],
   "source": [
    "fig, ax = plt.subplots(figsize=[8,6])\n",
    "ax.set_xlim(0,20000)\n",
    "sns.boxplot(pd.DataFrame(se_arr).applymap(np.sqrt),orient='h', fliersize=0,width=0.5)\n",
    "plt.savefig('model_error.png',bbox_inches='tight')"
   ]
  },
  {
   "cell_type": "markdown",
   "metadata": {
    "deletable": true,
    "editable": true
   },
   "source": [
    "#### Random Forest"
   ]
  },
  {
   "cell_type": "code",
   "execution_count": null,
   "metadata": {
    "collapsed": true,
    "deletable": true,
    "editable": true
   },
   "outputs": [],
   "source": []
  },
  {
   "cell_type": "code",
   "execution_count": 65,
   "metadata": {
    "collapsed": true,
    "deletable": true,
    "editable": true
   },
   "outputs": [],
   "source": [
    "from sklearn.ensemble import RandomForestRegressor\n",
    "from sklearn.model_selection import GridSearchCV"
   ]
  },
  {
   "cell_type": "code",
   "execution_count": 66,
   "metadata": {
    "collapsed": false,
    "deletable": true,
    "editable": true
   },
   "outputs": [
    {
     "name": "stdout",
     "output_type": "stream",
     "text": [
      "                  score  p_value\n",
      "ACROOMS     2883.150118      0.0\n",
      "BEDROOMS    2551.329336      0.0\n",
      "WASHLOAD    2546.924564      0.0\n",
      "TOTROOMS    2496.970440      0.0\n",
      "TOTSQFT     2293.484860      0.0\n",
      "TOTSQFT_EN  2214.806670      0.0\n",
      "HEATROOM    2106.576177      0.0\n",
      "NCOMBATH    2021.504112      0.0\n",
      "DRYER       1953.448755      0.0\n",
      "DRYRFUEL_5  1862.440063      0.0\n",
      "k_best: 110\n"
     ]
    }
   ],
   "source": [
    "df_train, df_test = order_features(df_train, y_train, df_test)\n",
    "train_score, test_score = compare_nfeatures(df_train, y_train)\n",
    "df_train, df_test = select_features(df_train,df_test,test_score)"
   ]
  },
  {
   "cell_type": "code",
   "execution_count": 67,
   "metadata": {
    "collapsed": false,
    "deletable": true,
    "editable": true
   },
   "outputs": [
    {
     "data": {
      "text/plain": [
       "{'max_depth': 6, 'max_features': 54, 'min_samples_leaf': 11}"
      ]
     },
     "execution_count": 67,
     "metadata": {},
     "output_type": "execute_result"
    }
   ],
   "source": [
    "#CV \n",
    "X_train = df_train.values\n",
    "X_test = df_test.values\n",
    "\n",
    "n_features = X_train.shape[1]\n",
    "params = {'max_features': np.linspace(math.sqrt(n_features),n_features,num=10,dtype='int'),\n",
    "         'min_samples_leaf': range(1,20,5),\n",
    "         'max_depth':range(2,7)}\n",
    "clf = RandomForestRegressor(n_estimators=15)\n",
    "CV = GridSearchCV(clf, param_grid=params)\n",
    "CV.fit(X_train,y_train)\n",
    "CV.best_params_"
   ]
  },
  {
   "cell_type": "code",
   "execution_count": 68,
   "metadata": {
    "collapsed": false,
    "deletable": true,
    "editable": true
   },
   "outputs": [
    {
     "data": {
      "text/plain": [
       "RandomForestRegressor(bootstrap=True, criterion='mse', max_depth=None,\n",
       "           max_features=54, max_leaf_nodes=None, min_impurity_split=1e-07,\n",
       "           min_samples_leaf=11, min_samples_split=2,\n",
       "           min_weight_fraction_leaf=0.0, n_estimators=10, n_jobs=1,\n",
       "           oob_score=False, random_state=None, verbose=0, warm_start=False)"
      ]
     },
     "execution_count": 68,
     "metadata": {},
     "output_type": "execute_result"
    }
   ],
   "source": [
    "clf = RandomForestRegressor(max_features=CV.best_params_['max_features'],\n",
    "                           min_samples_leaf=CV.best_params_['min_samples_leaf'])\n",
    "clf.fit(X_train,y_train)"
   ]
  },
  {
   "cell_type": "code",
   "execution_count": 69,
   "metadata": {
    "collapsed": false,
    "deletable": true,
    "editable": true
   },
   "outputs": [
    {
     "data": {
      "text/plain": [
       "0.61321527692827593"
      ]
     },
     "execution_count": 69,
     "metadata": {},
     "output_type": "execute_result"
    }
   ],
   "source": [
    "clf.score(X_test,y_test)"
   ]
  },
  {
   "cell_type": "code",
   "execution_count": 70,
   "metadata": {
    "collapsed": false,
    "deletable": true,
    "editable": true
   },
   "outputs": [
    {
     "name": "stdout",
     "output_type": "stream",
     "text": [
      "RMSE: 4732.41108555\n"
     ]
    }
   ],
   "source": [
    "#convert log_KWH back to KWH and calculate the RMS error\n",
    "y_predicted = np.exp(clf.predict(X_test))-1\n",
    "y_true = np.exp(y_test)-1\n",
    "se_arr['Random_Forest'], rmse['Random_Forest'] = rms_error(y_predicted,y_true)"
   ]
  },
  {
   "cell_type": "code",
   "execution_count": null,
   "metadata": {
    "collapsed": true,
    "deletable": true,
    "editable": true
   },
   "outputs": [],
   "source": []
  },
  {
   "cell_type": "markdown",
   "metadata": {
    "deletable": true,
    "editable": true
   },
   "source": [
    "#### Gradient Boost"
   ]
  },
  {
   "cell_type": "code",
   "execution_count": 63,
   "metadata": {
    "collapsed": false,
    "deletable": true,
    "editable": true
   },
   "outputs": [
    {
     "name": "stderr",
     "output_type": "stream",
     "text": [
      "/Users/pear/anaconda/lib/python2.7/site-packages/sklearn/cross_validation.py:44: DeprecationWarning: This module was deprecated in version 0.18 in favor of the model_selection module into which all the refactored classes and functions are moved. Also note that the interface of the new CV iterators are different from that of this module. This module will be removed in 0.20.\n",
      "  \"This module will be removed in 0.20.\", DeprecationWarning)\n"
     ]
    }
   ],
   "source": [
    "import xgboost as xgb"
   ]
  },
  {
   "cell_type": "code",
   "execution_count": 67,
   "metadata": {
    "collapsed": false,
    "deletable": true,
    "editable": true
   },
   "outputs": [],
   "source": [
    "skewed_col = check_skew(df, quant_col)\n",
    "df = take_log(df, skewed_col)"
   ]
  },
  {
   "cell_type": "code",
   "execution_count": 70,
   "metadata": {
    "collapsed": false,
    "deletable": true,
    "editable": true
   },
   "outputs": [],
   "source": [
    "df_train, df_test, y_train, y_test = train_test_split(df, data['KWH'].map(np.log1p), test_size=0.2, random_state=42)"
   ]
  },
  {
   "cell_type": "code",
   "execution_count": 86,
   "metadata": {
    "collapsed": false,
    "deletable": true,
    "editable": true
   },
   "outputs": [],
   "source": [
    "clf = xgb.XGBRegressor(learning_rate =0.1,\n",
    " n_estimators=200,\n",
    " max_depth=5,\n",
    " min_child_weight=1,\n",
    " gamma=0,\n",
    " subsample=0.8,\n",
    " colsample_bytree=0.8,\n",
    " scale_pos_weight=1,\n",
    " seed=27)"
   ]
  },
  {
   "cell_type": "code",
   "execution_count": 78,
   "metadata": {
    "collapsed": false,
    "deletable": true,
    "editable": true
   },
   "outputs": [
    {
     "data": {
      "text/plain": [
       "XGBRegressor(base_score=0.5, colsample_bylevel=1, colsample_bytree=1, gamma=0,\n",
       "       learning_rate=0.1, max_delta_step=0, max_depth=3,\n",
       "       min_child_weight=1, missing=None, n_estimators=100, nthread=-1,\n",
       "       objective='reg:linear', reg_alpha=0, reg_lambda=1,\n",
       "       scale_pos_weight=1, seed=0, silent=True, subsample=1)"
      ]
     },
     "execution_count": 78,
     "metadata": {},
     "output_type": "execute_result"
    }
   ],
   "source": [
    "clf.fit(X_train,y_train)"
   ]
  },
  {
   "cell_type": "code",
   "execution_count": 79,
   "metadata": {
    "collapsed": false,
    "deletable": true,
    "editable": true
   },
   "outputs": [
    {
     "data": {
      "text/plain": [
       "0.64843014267009724"
      ]
     },
     "execution_count": 79,
     "metadata": {},
     "output_type": "execute_result"
    }
   ],
   "source": [
    "clf.score(X_test,y_test)"
   ]
  },
  {
   "cell_type": "code",
   "execution_count": 87,
   "metadata": {
    "collapsed": false,
    "deletable": true,
    "editable": true
   },
   "outputs": [],
   "source": [
    "xgtrain = xgb.DMatrix(X_train, y_train)\n",
    "cvresult = xgb.cv(clf.get_xgb_params(),xgtrain, num_boost_round=clf.get_params()['n_estimators'], \n",
    "                  nfold=3)"
   ]
  },
  {
   "cell_type": "code",
   "execution_count": null,
   "metadata": {
    "collapsed": true,
    "deletable": true,
    "editable": true
   },
   "outputs": [],
   "source": []
  }
 ],
 "metadata": {
  "kernelspec": {
   "display_name": "Python [default]",
   "language": "python",
   "name": "python2"
  },
  "language_info": {
   "codemirror_mode": {
    "name": "ipython",
    "version": 2
   },
   "file_extension": ".py",
   "mimetype": "text/x-python",
   "name": "python",
   "nbconvert_exporter": "python",
   "pygments_lexer": "ipython2",
   "version": "2.7.13"
  }
 },
 "nbformat": 4,
 "nbformat_minor": 2
}
