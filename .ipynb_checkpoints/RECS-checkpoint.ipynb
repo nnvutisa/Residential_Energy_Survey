{
 "cells": [
  {
   "cell_type": "code",
   "execution_count": 1,
   "metadata": {
    "collapsed": true,
    "deletable": true,
    "editable": true
   },
   "outputs": [],
   "source": [
    "import numpy as np\n",
    "import pandas as pd\n",
    "import matplotlib.pyplot as plt\n",
    "import seaborn as sns\n",
    "import math\n",
    "\n",
    "%matplotlib inline\n",
    "sns.set_style(\"whitegrid\")"
   ]
  },
  {
   "cell_type": "markdown",
   "metadata": {
    "deletable": true,
    "editable": true
   },
   "source": [
    "## Reading Data"
   ]
  },
  {
   "cell_type": "code",
   "execution_count": 84,
   "metadata": {
    "collapsed": true,
    "deletable": true,
    "editable": true
   },
   "outputs": [],
   "source": [
    "#layout file describing all columns\n",
    "layout = pd.read_csv('public_layout.csv')"
   ]
  },
  {
   "cell_type": "code",
   "execution_count": 3,
   "metadata": {
    "collapsed": false,
    "deletable": true,
    "editable": true
   },
   "outputs": [
    {
     "data": {
      "text/html": [
       "<div>\n",
       "<table border=\"1\" class=\"dataframe\">\n",
       "  <thead>\n",
       "    <tr style=\"text-align: right;\">\n",
       "      <th></th>\n",
       "      <th>Variable Name</th>\n",
       "      <th>Variable Label</th>\n",
       "      <th>Variable Order in File</th>\n",
       "      <th>Variable Type</th>\n",
       "      <th>Length</th>\n",
       "    </tr>\n",
       "  </thead>\n",
       "  <tbody>\n",
       "    <tr>\n",
       "      <th>0</th>\n",
       "      <td>DOEID</td>\n",
       "      <td>Unique identifier for each respondent</td>\n",
       "      <td>1</td>\n",
       "      <td>Character</td>\n",
       "      <td>5</td>\n",
       "    </tr>\n",
       "    <tr>\n",
       "      <th>1</th>\n",
       "      <td>REGIONC</td>\n",
       "      <td>Census Region</td>\n",
       "      <td>2</td>\n",
       "      <td>Numeric</td>\n",
       "      <td>8</td>\n",
       "    </tr>\n",
       "    <tr>\n",
       "      <th>2</th>\n",
       "      <td>DIVISION</td>\n",
       "      <td>Census Division</td>\n",
       "      <td>3</td>\n",
       "      <td>Numeric</td>\n",
       "      <td>8</td>\n",
       "    </tr>\n",
       "    <tr>\n",
       "      <th>3</th>\n",
       "      <td>REPORTABLE_DOMAIN</td>\n",
       "      <td>Reportable states and groups of states</td>\n",
       "      <td>4</td>\n",
       "      <td>Numeric</td>\n",
       "      <td>8</td>\n",
       "    </tr>\n",
       "    <tr>\n",
       "      <th>4</th>\n",
       "      <td>TYPEHUQ</td>\n",
       "      <td>Type of housing unit</td>\n",
       "      <td>5</td>\n",
       "      <td>Numeric</td>\n",
       "      <td>8</td>\n",
       "    </tr>\n",
       "  </tbody>\n",
       "</table>\n",
       "</div>"
      ],
      "text/plain": [
       "       Variable Name                          Variable Label  \\\n",
       "0              DOEID   Unique identifier for each respondent   \n",
       "1            REGIONC                           Census Region   \n",
       "2           DIVISION                         Census Division   \n",
       "3  REPORTABLE_DOMAIN  Reportable states and groups of states   \n",
       "4            TYPEHUQ                    Type of housing unit   \n",
       "\n",
       "   Variable Order in File Variable Type  Length  \n",
       "0                       1     Character       5  \n",
       "1                       2       Numeric       8  \n",
       "2                       3       Numeric       8  \n",
       "3                       4       Numeric       8  \n",
       "4                       5       Numeric       8  "
      ]
     },
     "execution_count": 3,
     "metadata": {},
     "output_type": "execute_result"
    }
   ],
   "source": [
    "layout.head()"
   ]
  },
  {
   "cell_type": "code",
   "execution_count": 8,
   "metadata": {
    "collapsed": false,
    "deletable": true,
    "editable": true
   },
   "outputs": [
    {
     "data": {
      "text/plain": [
       "(931, 5)"
      ]
     },
     "execution_count": 8,
     "metadata": {},
     "output_type": "execute_result"
    }
   ],
   "source": [
    "layout.shape"
   ]
  },
  {
   "cell_type": "markdown",
   "metadata": {
    "deletable": true,
    "editable": true
   },
   "source": [
    "There are 931 columns total."
   ]
  },
  {
   "cell_type": "code",
   "execution_count": 85,
   "metadata": {
    "collapsed": true,
    "deletable": true,
    "editable": true
   },
   "outputs": [],
   "source": [
    "data = pd.read_csv('recs2009_public.csv')"
   ]
  },
  {
   "cell_type": "code",
   "execution_count": 59,
   "metadata": {
    "collapsed": false,
    "deletable": true,
    "editable": true
   },
   "outputs": [
    {
     "data": {
      "text/plain": [
       "(12083, 931)"
      ]
     },
     "execution_count": 59,
     "metadata": {},
     "output_type": "execute_result"
    }
   ],
   "source": [
    "data.shape"
   ]
  },
  {
   "cell_type": "code",
   "execution_count": 10,
   "metadata": {
    "collapsed": false,
    "deletable": true,
    "editable": true
   },
   "outputs": [
    {
     "data": {
      "text/html": [
       "<div>\n",
       "<table border=\"1\" class=\"dataframe\">\n",
       "  <thead>\n",
       "    <tr style=\"text-align: right;\">\n",
       "      <th></th>\n",
       "      <th>DOEID</th>\n",
       "      <th>REGIONC</th>\n",
       "      <th>DIVISION</th>\n",
       "      <th>REPORTABLE_DOMAIN</th>\n",
       "      <th>TYPEHUQ</th>\n",
       "      <th>NWEIGHT</th>\n",
       "      <th>HDD65</th>\n",
       "      <th>CDD65</th>\n",
       "      <th>HDD30YR</th>\n",
       "      <th>CDD30YR</th>\n",
       "      <th>...</th>\n",
       "      <th>SCALEEL</th>\n",
       "      <th>KAVALNG</th>\n",
       "      <th>PERIODNG</th>\n",
       "      <th>SCALENG</th>\n",
       "      <th>PERIODLP</th>\n",
       "      <th>SCALELP</th>\n",
       "      <th>PERIODFO</th>\n",
       "      <th>SCALEFO</th>\n",
       "      <th>PERIODKR</th>\n",
       "      <th>SCALEKER</th>\n",
       "    </tr>\n",
       "  </thead>\n",
       "  <tbody>\n",
       "    <tr>\n",
       "      <th>0</th>\n",
       "      <td>1</td>\n",
       "      <td>2</td>\n",
       "      <td>4</td>\n",
       "      <td>12</td>\n",
       "      <td>2</td>\n",
       "      <td>2471.679705</td>\n",
       "      <td>4742</td>\n",
       "      <td>1080</td>\n",
       "      <td>4953</td>\n",
       "      <td>1271</td>\n",
       "      <td>...</td>\n",
       "      <td>0</td>\n",
       "      <td>-2</td>\n",
       "      <td>-2</td>\n",
       "      <td>-2</td>\n",
       "      <td>-2</td>\n",
       "      <td>-2</td>\n",
       "      <td>-2</td>\n",
       "      <td>-2</td>\n",
       "      <td>-2</td>\n",
       "      <td>-2</td>\n",
       "    </tr>\n",
       "    <tr>\n",
       "      <th>1</th>\n",
       "      <td>2</td>\n",
       "      <td>4</td>\n",
       "      <td>10</td>\n",
       "      <td>26</td>\n",
       "      <td>2</td>\n",
       "      <td>8599.172010</td>\n",
       "      <td>2662</td>\n",
       "      <td>199</td>\n",
       "      <td>2688</td>\n",
       "      <td>143</td>\n",
       "      <td>...</td>\n",
       "      <td>0</td>\n",
       "      <td>1</td>\n",
       "      <td>1</td>\n",
       "      <td>0</td>\n",
       "      <td>-2</td>\n",
       "      <td>-2</td>\n",
       "      <td>-2</td>\n",
       "      <td>-2</td>\n",
       "      <td>-2</td>\n",
       "      <td>-2</td>\n",
       "    </tr>\n",
       "    <tr>\n",
       "      <th>2</th>\n",
       "      <td>3</td>\n",
       "      <td>1</td>\n",
       "      <td>1</td>\n",
       "      <td>1</td>\n",
       "      <td>5</td>\n",
       "      <td>8969.915921</td>\n",
       "      <td>6233</td>\n",
       "      <td>505</td>\n",
       "      <td>5741</td>\n",
       "      <td>829</td>\n",
       "      <td>...</td>\n",
       "      <td>0</td>\n",
       "      <td>3</td>\n",
       "      <td>5</td>\n",
       "      <td>3</td>\n",
       "      <td>-2</td>\n",
       "      <td>-2</td>\n",
       "      <td>-2</td>\n",
       "      <td>-2</td>\n",
       "      <td>-2</td>\n",
       "      <td>-2</td>\n",
       "    </tr>\n",
       "    <tr>\n",
       "      <th>3</th>\n",
       "      <td>4</td>\n",
       "      <td>2</td>\n",
       "      <td>3</td>\n",
       "      <td>7</td>\n",
       "      <td>2</td>\n",
       "      <td>18003.639600</td>\n",
       "      <td>6034</td>\n",
       "      <td>672</td>\n",
       "      <td>5781</td>\n",
       "      <td>868</td>\n",
       "      <td>...</td>\n",
       "      <td>3</td>\n",
       "      <td>3</td>\n",
       "      <td>5</td>\n",
       "      <td>3</td>\n",
       "      <td>-2</td>\n",
       "      <td>-2</td>\n",
       "      <td>-2</td>\n",
       "      <td>-2</td>\n",
       "      <td>-2</td>\n",
       "      <td>-2</td>\n",
       "    </tr>\n",
       "    <tr>\n",
       "      <th>4</th>\n",
       "      <td>5</td>\n",
       "      <td>1</td>\n",
       "      <td>1</td>\n",
       "      <td>1</td>\n",
       "      <td>3</td>\n",
       "      <td>5999.605242</td>\n",
       "      <td>5388</td>\n",
       "      <td>702</td>\n",
       "      <td>5313</td>\n",
       "      <td>797</td>\n",
       "      <td>...</td>\n",
       "      <td>0</td>\n",
       "      <td>1</td>\n",
       "      <td>1</td>\n",
       "      <td>0</td>\n",
       "      <td>-2</td>\n",
       "      <td>-2</td>\n",
       "      <td>-2</td>\n",
       "      <td>-2</td>\n",
       "      <td>-2</td>\n",
       "      <td>-2</td>\n",
       "    </tr>\n",
       "  </tbody>\n",
       "</table>\n",
       "<p>5 rows × 931 columns</p>\n",
       "</div>"
      ],
      "text/plain": [
       "   DOEID  REGIONC  DIVISION  REPORTABLE_DOMAIN  TYPEHUQ       NWEIGHT  HDD65  \\\n",
       "0      1        2         4                 12        2   2471.679705   4742   \n",
       "1      2        4        10                 26        2   8599.172010   2662   \n",
       "2      3        1         1                  1        5   8969.915921   6233   \n",
       "3      4        2         3                  7        2  18003.639600   6034   \n",
       "4      5        1         1                  1        3   5999.605242   5388   \n",
       "\n",
       "   CDD65  HDD30YR  CDD30YR    ...     SCALEEL  KAVALNG PERIODNG SCALENG  \\\n",
       "0   1080     4953     1271    ...           0       -2       -2      -2   \n",
       "1    199     2688      143    ...           0        1        1       0   \n",
       "2    505     5741      829    ...           0        3        5       3   \n",
       "3    672     5781      868    ...           3        3        5       3   \n",
       "4    702     5313      797    ...           0        1        1       0   \n",
       "\n",
       "   PERIODLP  SCALELP  PERIODFO  SCALEFO  PERIODKR  SCALEKER  \n",
       "0        -2       -2        -2       -2        -2        -2  \n",
       "1        -2       -2        -2       -2        -2        -2  \n",
       "2        -2       -2        -2       -2        -2        -2  \n",
       "3        -2       -2        -2       -2        -2        -2  \n",
       "4        -2       -2        -2       -2        -2        -2  \n",
       "\n",
       "[5 rows x 931 columns]"
      ]
     },
     "execution_count": 10,
     "metadata": {},
     "output_type": "execute_result"
    }
   ],
   "source": [
    "data.head()"
   ]
  },
  {
   "cell_type": "code",
   "execution_count": 4,
   "metadata": {
    "collapsed": true,
    "deletable": true,
    "editable": true
   },
   "outputs": [],
   "source": [
    "#some useful functions for looking up data\n",
    "\n",
    "def whatis(column):\n",
    "    #get column description\n",
    "    return layout.loc[layout['Variable Name'] == column,'Variable Label'].values[0]\n",
    "\n",
    "def search_columns(term):\n",
    "    #search for columns contain term\n",
    "    df = layout.loc[layout['Variable Label'].str.contains(term,case=False),['Variable Name','Variable Label']]\n",
    "    return df"
   ]
  },
  {
   "cell_type": "code",
   "execution_count": 20,
   "metadata": {
    "collapsed": false,
    "deletable": true,
    "editable": true
   },
   "outputs": [
    {
     "data": {
      "text/plain": [
       "'Census Region'"
      ]
     },
     "execution_count": 20,
     "metadata": {},
     "output_type": "execute_result"
    }
   ],
   "source": [
    "whatis('REGIONC')"
   ]
  },
  {
   "cell_type": "code",
   "execution_count": 22,
   "metadata": {
    "collapsed": false,
    "deletable": true,
    "editable": true
   },
   "outputs": [
    {
     "data": {
      "text/html": [
       "<div>\n",
       "<table border=\"1\" class=\"dataframe\">\n",
       "  <thead>\n",
       "    <tr style=\"text-align: right;\">\n",
       "      <th></th>\n",
       "      <th>Variable Name</th>\n",
       "      <th>Variable Label</th>\n",
       "    </tr>\n",
       "  </thead>\n",
       "  <tbody>\n",
       "    <tr>\n",
       "      <th>1</th>\n",
       "      <td>REGIONC</td>\n",
       "      <td>Census Region</td>\n",
       "    </tr>\n",
       "    <tr>\n",
       "      <th>10</th>\n",
       "      <td>Climate_Region_Pub</td>\n",
       "      <td>Building America Climate Region (collapsed for...</td>\n",
       "    </tr>\n",
       "  </tbody>\n",
       "</table>\n",
       "</div>"
      ],
      "text/plain": [
       "         Variable Name                                     Variable Label\n",
       "1              REGIONC                                      Census Region\n",
       "10  Climate_Region_Pub  Building America Climate Region (collapsed for..."
      ]
     },
     "execution_count": 22,
     "metadata": {},
     "output_type": "execute_result"
    }
   ],
   "source": [
    "search_columns('Region')"
   ]
  },
  {
   "cell_type": "markdown",
   "metadata": {
    "deletable": true,
    "editable": true
   },
   "source": [
    "For this analysis, we are only interested in single-family houses. We are excluding apartments and mobile homes, so we need to remove those housing types. "
   ]
  },
  {
   "cell_type": "code",
   "execution_count": 60,
   "metadata": {
    "collapsed": false,
    "deletable": true,
    "editable": true
   },
   "outputs": [
    {
     "data": {
      "text/plain": [
       "2    7803\n",
       "5    1923\n",
       "4     926\n",
       "3     890\n",
       "1     541\n",
       "Name: TYPEHUQ, dtype: int64"
      ]
     },
     "execution_count": 60,
     "metadata": {},
     "output_type": "execute_result"
    }
   ],
   "source": [
    "data['TYPEHUQ'].value_counts()"
   ]
  },
  {
   "cell_type": "markdown",
   "metadata": {
    "deletable": true,
    "editable": true
   },
   "source": [
    "Single-family detached is type 2, and single-family attached is type 3. "
   ]
  },
  {
   "cell_type": "code",
   "execution_count": 21,
   "metadata": {
    "collapsed": false,
    "deletable": true,
    "editable": true
   },
   "outputs": [],
   "source": [
    "data = data[data['TYPEHUQ'].isin([2,3])]"
   ]
  },
  {
   "cell_type": "code",
   "execution_count": 22,
   "metadata": {
    "collapsed": false,
    "deletable": true,
    "editable": true
   },
   "outputs": [
    {
     "data": {
      "text/plain": [
       "(8693, 931)"
      ]
     },
     "execution_count": 22,
     "metadata": {},
     "output_type": "execute_result"
    }
   ],
   "source": [
    "data.shape"
   ]
  },
  {
   "cell_type": "markdown",
   "metadata": {
    "collapsed": true,
    "deletable": true,
    "editable": true
   },
   "source": [
    "## Exploratory Data Analysis"
   ]
  },
  {
   "cell_type": "markdown",
   "metadata": {
    "deletable": true,
    "editable": true
   },
   "source": [
    "Electricity usage"
   ]
  },
  {
   "cell_type": "code",
   "execution_count": 63,
   "metadata": {
    "collapsed": false,
    "deletable": true,
    "editable": true
   },
   "outputs": [
    {
     "name": "stdout",
     "output_type": "stream",
     "text": [
      "Mean, Std: 12712.1628897 7913.78716793\n"
     ]
    }
   ],
   "source": [
    "print 'Mean, Std:', data['KWH'].mean(), data['KWH'].std()"
   ]
  },
  {
   "cell_type": "code",
   "execution_count": 64,
   "metadata": {
    "collapsed": false,
    "deletable": true,
    "editable": true
   },
   "outputs": [
    {
     "data": {
      "text/plain": [
       "<matplotlib.axes._subplots.AxesSubplot at 0x1328eb610>"
      ]
     },
     "execution_count": 64,
     "metadata": {},
     "output_type": "execute_result"
    },
    {
     "data": {
      "image/png": "[encoded data removed]",
      "text/plain": [
       "<matplotlib.figure.Figure at 0x11c773f90>"
      ]
     },
     "metadata": {},
     "output_type": "display_data"
    }
   ],
   "source": [
    "fig, ax = plt.subplots(figsize=[8,6])\n",
    "ax.set_xlim(0,80000)\n",
    "sns.distplot(data['KWH'],ax=ax, bins=100)"
   ]
  },
  {
   "cell_type": "code",
   "execution_count": 65,
   "metadata": {
    "collapsed": false,
    "deletable": true,
    "editable": true
   },
   "outputs": [
    {
     "data": {
      "text/plain": [
       "<matplotlib.axes._subplots.AxesSubplot at 0x128180650>"
      ]
     },
     "execution_count": 65,
     "metadata": {},
     "output_type": "execute_result"
    },
    {
     "data": {
      "image/png": "[encoded data removed]",
      "text/plain": [
       "<matplotlib.figure.Figure at 0x1281b7410>"
      ]
     },
     "metadata": {},
     "output_type": "display_data"
    }
   ],
   "source": [
    "#Log plot\n",
    "fig, ax = plt.subplots(figsize=[8,6])\n",
    "#ax.set_xlim(0,80000)\n",
    "sns.distplot(data['KWH'].map(math.log10),ax=ax)"
   ]
  },
  {
   "cell_type": "markdown",
   "metadata": {
    "deletable": true,
    "editable": true
   },
   "source": [
    "Look for outliers in KWH."
   ]
  },
  {
   "cell_type": "code",
   "execution_count": 66,
   "metadata": {
    "collapsed": false,
    "deletable": true,
    "editable": true
   },
   "outputs": [
    {
     "name": "stdout",
     "output_type": "stream",
     "text": [
      "Data > 3*Sigma:\n",
      "3551    150254\n",
      "4839     72865\n",
      "8112     77622\n",
      "9129     72725\n",
      "Name: KWH, dtype: int64\n",
      "Data > 60,000 KWH:\n",
      "1362      60183\n",
      "3551     150254\n",
      "4212      68382\n",
      "4418      69007\n",
      "4712      68289\n",
      "4839      72865\n",
      "8112      77622\n",
      "9129      72725\n",
      "10220     64232\n",
      "Name: KWH, dtype: int64\n"
     ]
    }
   ],
   "source": [
    "#Looking for data with log(KWH) larger than 3 standard deviation from the mean.\n",
    "log_kwh = data['KWH'].map(math.log10)\n",
    "print 'Data > 3*Sigma:'\n",
    "print data.loc[log_kwh > (log_kwh.mean()+3.*log_kwh.std()), 'KWH']\n",
    "\n",
    "#Data with KWH larger than 60000\n",
    "print 'Data > 60,000 KWH:'\n",
    "print data.loc[data['KWH']>60000, 'KWH']"
   ]
  },
  {
   "cell_type": "markdown",
   "metadata": {
    "deletable": true,
    "editable": true
   },
   "source": [
    "There seem to be one entry with an unusually large KWH. Entry 3551. "
   ]
  },
  {
   "cell_type": "code",
   "execution_count": 36,
   "metadata": {
    "collapsed": false,
    "deletable": true,
    "editable": true
   },
   "outputs": [
    {
     "name": "stdout",
     "output_type": "stream",
     "text": [
      " SQRT: 9545 Rooms: 23\n"
     ]
    }
   ],
   "source": [
    "print 'SQRT:', data.loc[3551,'TOTSQFT_EN'], 'Rooms:', data.loc[3551,'TOTROOMS']"
   ]
  },
  {
   "cell_type": "code",
   "execution_count": 86,
   "metadata": {
    "collapsed": false,
    "deletable": true,
    "editable": true
   },
   "outputs": [],
   "source": [
    "#Removing this entry\n",
    "data = data.drop(3551)"
   ]
  },
  {
   "cell_type": "code",
   "execution_count": 68,
   "metadata": {
    "collapsed": false,
    "deletable": true,
    "editable": true
   },
   "outputs": [
    {
     "data": {
      "image/png": "[encoded data removed]",
      "text/plain": [
       "<matplotlib.figure.Figure at 0x12843e610>"
      ]
     },
     "metadata": {},
     "output_type": "display_data"
    }
   ],
   "source": [
    "fig, axarr = plt.subplots(2,2,figsize=[12,10])\n",
    "col = ['YEARMADE','NHSLDMEM','TOTSQFT_EN','HHAGE']\n",
    "for i in range(4):\n",
    "    axarr.flatten()[i].set_title(whatis(col[i])[:30],size=20)\n",
    "    sns.distplot(data[col[i]],ax=axarr.flatten()[i],kde=False)\n"
   ]
  },
  {
   "cell_type": "markdown",
   "metadata": {
    "deletable": true,
    "editable": true
   },
   "source": [
    "Some of these bins suggest some sensored data. For example, the year made started from 1920. Houses built prior to that year might be put as 1920. We can look at the imputation flag to see how many of these data points were imputed."
   ]
  },
  {
   "cell_type": "code",
   "execution_count": 69,
   "metadata": {
    "collapsed": false,
    "deletable": true,
    "editable": true
   },
   "outputs": [
    {
     "data": {
      "text/plain": [
       "0    7882\n",
       "1     810\n",
       "Name: ZYEARMADE, dtype: int64"
      ]
     },
     "execution_count": 69,
     "metadata": {},
     "output_type": "execute_result"
    }
   ],
   "source": [
    "data['ZYEARMADE'].value_counts()"
   ]
  },
  {
   "cell_type": "code",
   "execution_count": 70,
   "metadata": {
    "collapsed": false,
    "deletable": true,
    "editable": true
   },
   "outputs": [
    {
     "data": {
      "text/plain": [
       "0    534\n",
       "1     90\n",
       "Name: ZYEARMADE, dtype: int64"
      ]
     },
     "execution_count": 70,
     "metadata": {},
     "output_type": "execute_result"
    }
   ],
   "source": [
    "data.loc[data['YEARMADE']==1920,'ZYEARMADE'].value_counts()"
   ]
  },
  {
   "cell_type": "markdown",
   "metadata": {
    "deletable": true,
    "editable": true
   },
   "source": [
    "Only about 15% were imputed. The number for 1920 is quite high. I wonder if this has something to do with the survey itself. We don't see any house that were built prior to 1920 eventhough the year range is reported to be 1600-2009."
   ]
  },
  {
   "cell_type": "markdown",
   "metadata": {
    "deletable": true,
    "editable": true
   },
   "source": [
    "Explore some other important features."
   ]
  },
  {
   "cell_type": "code",
   "execution_count": 72,
   "metadata": {
    "collapsed": true,
    "deletable": true,
    "editable": true
   },
   "outputs": [],
   "source": [
    "from sklearn.utils import resample"
   ]
  },
  {
   "cell_type": "code",
   "execution_count": 73,
   "metadata": {
    "collapsed": false,
    "deletable": true,
    "editable": true
   },
   "outputs": [
    {
     "data": {
      "text/plain": [
       "<matplotlib.axes._subplots.AxesSubplot at 0x1334ab310>"
      ]
     },
     "execution_count": 73,
     "metadata": {},
     "output_type": "execute_result"
    },
    {
     "data": {
      "image/png": "[encoded data removed]",
      "text/plain": [
       "<matplotlib.figure.Figure at 0x12843eb50>"
      ]
     },
     "metadata": {},
     "output_type": "display_data"
    }
   ],
   "source": [
    "#Looking at some categorical features\n",
    "fig, axarr = plt.subplots(1,2,figsize=[10,6])\n",
    "sns.boxplot(ax=axarr[0],data=data,x='Climate_Region_Pub',y='KWH')\n",
    "sns.boxplot(ax=axarr[1],data=data,x='ADQINSUL',y='KWH')"
   ]
  },
  {
   "cell_type": "code",
   "execution_count": 74,
   "metadata": {
    "collapsed": false,
    "deletable": true,
    "editable": true
   },
   "outputs": [
    {
     "data": {
      "text/plain": [
       "<matplotlib.axes._subplots.AxesSubplot at 0x12dfa39d0>"
      ]
     },
     "execution_count": 74,
     "metadata": {},
     "output_type": "execute_result"
    },
    {
     "data": {
      "image/png": "[encoded data removed]",
      "text/plain": [
       "<matplotlib.figure.Figure at 0x133152450>"
      ]
     },
     "metadata": {},
     "output_type": "display_data"
    }
   ],
   "source": [
    "fig, axarr = plt.subplots(1,2,figsize=[10,6])\n",
    "sns.boxplot(ax=axarr[0],data=data,x='REGIONC',y='KWH',hue='UR')\n",
    "sns.boxplot(ax=axarr[1],data=data,x='TYPEHUQ',y='KWH',hue='UR')"
   ]
  },
  {
   "cell_type": "code",
   "execution_count": 76,
   "metadata": {
    "collapsed": false,
    "deletable": true,
    "editable": true
   },
   "outputs": [
    {
     "data": {
      "text/plain": [
       "<matplotlib.axes._subplots.AxesSubplot at 0x12dc1f090>"
      ]
     },
     "execution_count": 76,
     "metadata": {},
     "output_type": "execute_result"
    },
    {
     "data": {
      "image/png": "[encoded data removed]",
      "text/plain": [
       "<matplotlib.figure.Figure at 0x12dfa3790>"
      ]
     },
     "metadata": {},
     "output_type": "display_data"
    }
   ],
   "source": [
    "fig, ax = plt.subplots(figsize=[8,6])\n",
    "sns.boxplot(ax=ax,data=data,x='REGIONC',y='TOTSQFT_EN',hue='UR')"
   ]
  },
  {
   "cell_type": "code",
   "execution_count": 80,
   "metadata": {
    "collapsed": false,
    "deletable": true,
    "editable": true
   },
   "outputs": [
    {
     "data": {
      "text/plain": [
       "<matplotlib.axes._subplots.AxesSubplot at 0x139551d10>"
      ]
     },
     "execution_count": 80,
     "metadata": {},
     "output_type": "execute_result"
    },
    {
     "data": {
      "image/png": "[encoded data removed]",
      "text/plain": [
       "<matplotlib.figure.Figure at 0x139565290>"
      ]
     },
     "metadata": {},
     "output_type": "display_data"
    }
   ],
   "source": [
    "fig, ax = plt.subplots(figsize=[8,6])\n",
    "sns.boxplot(ax=ax,data=data,x='YEARMADERANGE',y='KWH')"
   ]
  },
  {
   "cell_type": "code",
   "execution_count": 78,
   "metadata": {
    "collapsed": true,
    "deletable": true,
    "editable": true
   },
   "outputs": [],
   "source": [
    "#Since we have more than 10k samples, we are resampling them for visualization purposes. \n",
    "subdata = resample(data, replace=False, n_samples= 500, random_state=42)"
   ]
  },
  {
   "cell_type": "code",
   "execution_count": 79,
   "metadata": {
    "collapsed": false,
    "deletable": true,
    "editable": true
   },
   "outputs": [
    {
     "data": {
      "text/plain": [
       "<matplotlib.collections.PathCollection at 0x1395a2910>"
      ]
     },
     "execution_count": 79,
     "metadata": {},
     "output_type": "execute_result"
    },
    {
     "data": {
      "image/png": "[encoded data removed]",
      "text/plain": [
       "<matplotlib.figure.Figure at 0x133a77490>"
      ]
     },
     "metadata": {},
     "output_type": "display_data"
    }
   ],
   "source": [
    "fig, ax = plt.subplots(figsize=[8,6])\n",
    "ax.scatter(subdata['YEARMADE'],subdata['KWH'],c=subdata['TOTSQFT_EN'],cmap='Blues',s=40)"
   ]
  },
  {
   "cell_type": "code",
   "execution_count": 82,
   "metadata": {
    "collapsed": false,
    "deletable": true,
    "editable": true
   },
   "outputs": [
    {
     "data": {
      "text/plain": [
       "<matplotlib.collections.PathCollection at 0x13f1b43d0>"
      ]
     },
     "execution_count": 82,
     "metadata": {},
     "output_type": "execute_result"
    },
    {
     "data": {
      "image/png": "[encoded data removed]",
      "text/plain": [
       "<matplotlib.figure.Figure at 0x13eddef50>"
      ]
     },
     "metadata": {},
     "output_type": "display_data"
    }
   ],
   "source": [
    "fig, ax = plt.subplots(figsize=[8,6])\n",
    "ax.scatter(subdata['TOTSQFT_EN'],subdata['KWH'],s=40,alpha=0.3)"
   ]
  },
  {
   "cell_type": "markdown",
   "metadata": {
    "deletable": true,
    "editable": true
   },
   "source": [
    "## Modeling"
   ]
  },
  {
   "cell_type": "markdown",
   "metadata": {
    "deletable": true,
    "editable": true
   },
   "source": [
    "### Linear Regression Models"
   ]
  },
  {
   "cell_type": "markdown",
   "metadata": {
    "deletable": true,
    "editable": true
   },
   "source": [
    "Simple regression model. How well can we predict electricity usage from few, main features?"
   ]
  },
  {
   "cell_type": "code",
   "execution_count": 44,
   "metadata": {
    "collapsed": true,
    "deletable": true,
    "editable": true
   },
   "outputs": [],
   "source": [
    "#calculating error\n",
    "def rms_error(y_pred,y_true):\n",
    "    mse = np.mean((y_pred - y_true)**2)\n",
    "    return math.sqrt(mse)"
   ]
  },
  {
   "cell_type": "code",
   "execution_count": 45,
   "metadata": {
    "collapsed": true,
    "deletable": true,
    "editable": true
   },
   "outputs": [],
   "source": [
    "col_list= ['Climate_Region_Pub','YEARMADE','NHSLDMEM','TOTSQFT_EN']\n",
    "quan_col = ['YEARMADE','NHSLDMEM','TOTSQFT_EN']\n",
    "qual_col = ['Climate_Region_Pub']"
   ]
  },
  {
   "cell_type": "code",
   "execution_count": 85,
   "metadata": {
    "collapsed": false,
    "deletable": true,
    "editable": true
   },
   "outputs": [
    {
     "data": {
      "text/html": [
       "<div>\n",
       "<table border=\"1\" class=\"dataframe\">\n",
       "  <thead>\n",
       "    <tr style=\"text-align: right;\">\n",
       "      <th></th>\n",
       "      <th>Variable Name</th>\n",
       "      <th>Variable Label</th>\n",
       "    </tr>\n",
       "  </thead>\n",
       "  <tbody>\n",
       "    <tr>\n",
       "      <th>1</th>\n",
       "      <td>REGIONC</td>\n",
       "      <td>Census Region</td>\n",
       "    </tr>\n",
       "    <tr>\n",
       "      <th>10</th>\n",
       "      <td>Climate_Region_Pub</td>\n",
       "      <td>Building America Climate Region (collapsed for...</td>\n",
       "    </tr>\n",
       "  </tbody>\n",
       "</table>\n",
       "</div>"
      ],
      "text/plain": [
       "         Variable Name                                     Variable Label\n",
       "1              REGIONC                                      Census Region\n",
       "10  Climate_Region_Pub  Building America Climate Region (collapsed for..."
      ]
     },
     "execution_count": 85,
     "metadata": {},
     "output_type": "execute_result"
    }
   ],
   "source": [
    "search_columns('region')"
   ]
  },
  {
   "cell_type": "code",
   "execution_count": 46,
   "metadata": {
    "collapsed": false,
    "deletable": true,
    "editable": true
   },
   "outputs": [],
   "source": [
    "df = data[col_list]"
   ]
  },
  {
   "cell_type": "code",
   "execution_count": 47,
   "metadata": {
    "collapsed": false,
    "deletable": true,
    "editable": true
   },
   "outputs": [
    {
     "data": {
      "text/plain": [
       "Climate_Region_Pub    8692\n",
       "YEARMADE              8692\n",
       "NHSLDMEM              8692\n",
       "TOTSQFT_EN            8692\n",
       "dtype: int64"
      ]
     },
     "execution_count": 47,
     "metadata": {},
     "output_type": "execute_result"
    }
   ],
   "source": [
    "df.count()"
   ]
  },
  {
   "cell_type": "markdown",
   "metadata": {
    "deletable": true,
    "editable": true
   },
   "source": [
    "Calculating Pearson correlation coefficient for the quantitative columns"
   ]
  },
  {
   "cell_type": "code",
   "execution_count": 48,
   "metadata": {
    "collapsed": true,
    "deletable": true,
    "editable": true
   },
   "outputs": [],
   "source": [
    "from scipy.stats.stats import pearsonr"
   ]
  },
  {
   "cell_type": "code",
   "execution_count": 110,
   "metadata": {
    "collapsed": false,
    "deletable": true,
    "editable": true
   },
   "outputs": [
    {
     "name": "stdout",
     "output_type": "stream",
     "text": [
      "YEARMADE:     0.21 P-value:     0.00\n",
      "NHSLDMEM:     0.24 P-value:     0.00\n",
      "TOTSQFT_EN:     0.28 P-value:     0.00\n"
     ]
    }
   ],
   "source": [
    "for col in quan_col:\n",
    "    corcoef = pearsonr(df[col],data['KWH'])\n",
    "    print \"%s: %8.2f P-value: %8.2f\" % (col,corcoef[0],corcoef[1])"
   ]
  },
  {
   "cell_type": "markdown",
   "metadata": {
    "deletable": true,
    "editable": true
   },
   "source": [
    "All the correlation coefficients are positive but not very large. All of the p-values are less than 0.01. They are all significant (using the confidence level of 0.05), which is to be expected considering the large number of samples we have.  "
   ]
  },
  {
   "cell_type": "code",
   "execution_count": 49,
   "metadata": {
    "collapsed": false,
    "deletable": true,
    "editable": true
   },
   "outputs": [],
   "source": [
    "#Encoding Categorical data\n",
    "df = pd.get_dummies(df,columns=['Climate_Region_Pub'],prefix='Climate_Region_Pub',drop_first=True)"
   ]
  },
  {
   "cell_type": "code",
   "execution_count": 14,
   "metadata": {
    "collapsed": true,
    "deletable": true,
    "editable": true
   },
   "outputs": [],
   "source": [
    "from sklearn.linear_model import LinearRegression\n",
    "from sklearn.cross_validation import train_test_split\n",
    "from sklearn.feature_selection import f_regression"
   ]
  },
  {
   "cell_type": "markdown",
   "metadata": {
    "deletable": true,
    "editable": true
   },
   "source": [
    "Try a very simplistic linear model to see how well it does. "
   ]
  },
  {
   "cell_type": "code",
   "execution_count": 50,
   "metadata": {
    "collapsed": false,
    "deletable": true,
    "editable": true
   },
   "outputs": [
    {
     "data": {
      "text/plain": [
       "((8692, 7), (8692, 1))"
      ]
     },
     "execution_count": 50,
     "metadata": {},
     "output_type": "execute_result"
    }
   ],
   "source": [
    "X = df.values\n",
    "y = data['KWH'].values.reshape(-1,1)\n",
    "X.shape, y.shape"
   ]
  },
  {
   "cell_type": "code",
   "execution_count": 51,
   "metadata": {
    "collapsed": false,
    "deletable": true,
    "editable": true
   },
   "outputs": [
    {
     "data": {
      "text/plain": [
       "LinearRegression(copy_X=True, fit_intercept=True, n_jobs=1, normalize=False)"
      ]
     },
     "execution_count": 51,
     "metadata": {},
     "output_type": "execute_result"
    }
   ],
   "source": [
    "X_train, X_test, y_train, y_test = train_test_split(X, y, test_size=0.2, random_state=42)\n",
    "clf = LinearRegression()\n",
    "clf.fit(X_train,y_train)"
   ]
  },
  {
   "cell_type": "code",
   "execution_count": 52,
   "metadata": {
    "collapsed": false,
    "deletable": true,
    "editable": true
   },
   "outputs": [
    {
     "data": {
      "text/plain": [
       "array([[  3.28022887e+01,   1.08349225e+03,   1.59743302e+00,\n",
       "          5.16197507e+02,   6.66670841e+03,   3.64819589e+03,\n",
       "          4.32411750e+02]])"
      ]
     },
     "execution_count": 52,
     "metadata": {},
     "output_type": "execute_result"
    }
   ],
   "source": [
    "clf.coef_"
   ]
  },
  {
   "cell_type": "code",
   "execution_count": 53,
   "metadata": {
    "collapsed": false,
    "deletable": true,
    "editable": true
   },
   "outputs": [
    {
     "name": "stdout",
     "output_type": "stream",
     "text": [
      "Train set r^2: 0.253876175818\n",
      "Test set r^2: 0.246793262508\n"
     ]
    }
   ],
   "source": [
    "print 'Train set r^2:', clf.score(X_train,y_train)\n",
    "print 'Test set r^2:', clf.score(X_test,y_test)"
   ]
  },
  {
   "cell_type": "code",
   "execution_count": 54,
   "metadata": {
    "collapsed": false,
    "deletable": true,
    "editable": true
   },
   "outputs": [],
   "source": [
    "f_value, p_value = f_regression(X,y.flatten())"
   ]
  },
  {
   "cell_type": "code",
   "execution_count": 55,
   "metadata": {
    "collapsed": false,
    "deletable": true,
    "editable": true
   },
   "outputs": [
    {
     "name": "stdout",
     "output_type": "stream",
     "text": [
      "YEARMADE F-value:    410  P-value:  0.00\n",
      "NHSLDMEM F-value:    518  P-value:  0.00\n",
      "TOTSQFT_EN F-value:    743  P-value:  0.00\n",
      "Climate_Region_Pub_2 F-value:    114  P-value:  0.00\n",
      "Climate_Region_Pub_3 F-value:    489  P-value:  0.00\n",
      "Climate_Region_Pub_4 F-value:    168  P-value:  0.00\n",
      "Climate_Region_Pub_5 F-value:     48  P-value:  0.00\n"
     ]
    }
   ],
   "source": [
    "for i in xrange(len(f_value)):\n",
    "    print df.columns[i],'F-value:',\"%6.0f\" % f_value[i],' P-value:',\"%5.2f\" % p_value[i]\n",
    "    "
   ]
  },
  {
   "cell_type": "code",
   "execution_count": 56,
   "metadata": {
    "collapsed": false,
    "deletable": true,
    "editable": true
   },
   "outputs": [
    {
     "data": {
      "text/plain": [
       "6855.649902293099"
      ]
     },
     "execution_count": 56,
     "metadata": {},
     "output_type": "execute_result"
    }
   ],
   "source": [
    "rms_error(clf.predict(X_test),y_test)"
   ]
  },
  {
   "cell_type": "markdown",
   "metadata": {
    "collapsed": true,
    "deletable": true,
    "editable": true
   },
   "source": [
    "#### SLR on Housing Characteristics"
   ]
  },
  {
   "cell_type": "code",
   "execution_count": 57,
   "metadata": {
    "collapsed": true,
    "deletable": true,
    "editable": true
   },
   "outputs": [],
   "source": [
    "col = ['REGIONC','TYPEHUQ','HDD65','CDD65','Climate_Region_Pub','AIA_Zone','METROMICRO','UR','YEARMADE','WALLTYPE',\n",
    "      'ROOFTYPE','STORIES','BEDROOMS','NCOMBATH','NHAFBATH','OTHROOMS','CELLAR','CRAWL','CONCRETE','ATTIC',\n",
    "      'HEATHOME','AIRCOND','HIGHCEIL','CATHCEIL','POOL','WINDOWS','ADQINSUL','TOTSQFT_EN']\n",
    "n_features = len(col)"
   ]
  },
  {
   "cell_type": "code",
   "execution_count": 58,
   "metadata": {
    "collapsed": false,
    "deletable": true,
    "editable": true
   },
   "outputs": [
    {
     "data": {
      "text/html": [
       "<div>\n",
       "<table border=\"1\" class=\"dataframe\">\n",
       "  <thead>\n",
       "    <tr style=\"text-align: right;\">\n",
       "      <th></th>\n",
       "      <th>Variable Name</th>\n",
       "      <th>Variable Label</th>\n",
       "    </tr>\n",
       "  </thead>\n",
       "  <tbody>\n",
       "    <tr>\n",
       "      <th>12</th>\n",
       "      <td>METROMICRO</td>\n",
       "      <td>Housing unit in Census Metropolitan Statistica...</td>\n",
       "    </tr>\n",
       "  </tbody>\n",
       "</table>\n",
       "</div>"
      ],
      "text/plain": [
       "   Variable Name                                     Variable Label\n",
       "12    METROMICRO  Housing unit in Census Metropolitan Statistica..."
      ]
     },
     "execution_count": 58,
     "metadata": {},
     "output_type": "execute_result"
    }
   ],
   "source": [
    "search_columns('METRO')"
   ]
  },
  {
   "cell_type": "code",
   "execution_count": 87,
   "metadata": {
    "collapsed": true,
    "deletable": true,
    "editable": true
   },
   "outputs": [],
   "source": [
    "df = data[col]"
   ]
  },
  {
   "cell_type": "code",
   "execution_count": 88,
   "metadata": {
    "collapsed": false,
    "deletable": true,
    "editable": true
   },
   "outputs": [],
   "source": [
    "#Fixing binary data with N/A(-2) entries\n",
    "fix_col=['CELLAR','CRAWL','CONCRETE','ATTIC','HIGHCEIL','CATHCEIL','POOL']\n",
    "df.loc[:,fix_col] = df[fix_col].applymap(lambda x: 0 if x==-2 else x)\n",
    "\n",
    "#Encoding Categorical data\n",
    "cat_col = ['REGIONC','TYPEHUQ','Climate_Region_Pub','AIA_Zone','METROMICRO','UR','WALLTYPE','ROOFTYPE',\n",
    "           'STORIES','ADQINSUL']\n",
    "df = pd.get_dummies(df,columns=cat_col,prefix=cat_col,drop_first=True)"
   ]
  },
  {
   "cell_type": "code",
   "execution_count": 27,
   "metadata": {
    "collapsed": false,
    "deletable": true,
    "editable": true
   },
   "outputs": [
    {
     "data": {
      "text/html": [
       "<div>\n",
       "<table border=\"1\" class=\"dataframe\">\n",
       "  <thead>\n",
       "    <tr style=\"text-align: right;\">\n",
       "      <th></th>\n",
       "      <th>HDD65</th>\n",
       "      <th>CDD65</th>\n",
       "      <th>YEARMADE</th>\n",
       "      <th>BEDROOMS</th>\n",
       "      <th>NCOMBATH</th>\n",
       "      <th>NHAFBATH</th>\n",
       "      <th>OTHROOMS</th>\n",
       "      <th>CELLAR</th>\n",
       "      <th>CRAWL</th>\n",
       "      <th>CONCRETE</th>\n",
       "      <th>...</th>\n",
       "      <th>ROOFTYPE_6</th>\n",
       "      <th>ROOFTYPE_7</th>\n",
       "      <th>ROOFTYPE_8</th>\n",
       "      <th>STORIES_20</th>\n",
       "      <th>STORIES_31</th>\n",
       "      <th>STORIES_32</th>\n",
       "      <th>STORIES_40</th>\n",
       "      <th>ADQINSUL_2</th>\n",
       "      <th>ADQINSUL_3</th>\n",
       "      <th>ADQINSUL_4</th>\n",
       "    </tr>\n",
       "  </thead>\n",
       "  <tbody>\n",
       "    <tr>\n",
       "      <th>0</th>\n",
       "      <td>4742</td>\n",
       "      <td>1080</td>\n",
       "      <td>2004</td>\n",
       "      <td>4</td>\n",
       "      <td>1</td>\n",
       "      <td>2</td>\n",
       "      <td>5</td>\n",
       "      <td>1</td>\n",
       "      <td>0</td>\n",
       "      <td>0</td>\n",
       "      <td>...</td>\n",
       "      <td>0.0</td>\n",
       "      <td>0.0</td>\n",
       "      <td>0.0</td>\n",
       "      <td>1.0</td>\n",
       "      <td>0.0</td>\n",
       "      <td>0.0</td>\n",
       "      <td>0.0</td>\n",
       "      <td>0.0</td>\n",
       "      <td>0.0</td>\n",
       "      <td>0.0</td>\n",
       "    </tr>\n",
       "    <tr>\n",
       "      <th>1</th>\n",
       "      <td>2662</td>\n",
       "      <td>199</td>\n",
       "      <td>1998</td>\n",
       "      <td>3</td>\n",
       "      <td>2</td>\n",
       "      <td>1</td>\n",
       "      <td>1</td>\n",
       "      <td>0</td>\n",
       "      <td>0</td>\n",
       "      <td>0</td>\n",
       "      <td>...</td>\n",
       "      <td>0.0</td>\n",
       "      <td>0.0</td>\n",
       "      <td>0.0</td>\n",
       "      <td>0.0</td>\n",
       "      <td>1.0</td>\n",
       "      <td>0.0</td>\n",
       "      <td>0.0</td>\n",
       "      <td>0.0</td>\n",
       "      <td>1.0</td>\n",
       "      <td>0.0</td>\n",
       "    </tr>\n",
       "    <tr>\n",
       "      <th>3</th>\n",
       "      <td>6034</td>\n",
       "      <td>672</td>\n",
       "      <td>1985</td>\n",
       "      <td>3</td>\n",
       "      <td>2</td>\n",
       "      <td>1</td>\n",
       "      <td>4</td>\n",
       "      <td>0</td>\n",
       "      <td>1</td>\n",
       "      <td>0</td>\n",
       "      <td>...</td>\n",
       "      <td>0.0</td>\n",
       "      <td>0.0</td>\n",
       "      <td>0.0</td>\n",
       "      <td>0.0</td>\n",
       "      <td>0.0</td>\n",
       "      <td>0.0</td>\n",
       "      <td>0.0</td>\n",
       "      <td>0.0</td>\n",
       "      <td>0.0</td>\n",
       "      <td>0.0</td>\n",
       "    </tr>\n",
       "    <tr>\n",
       "      <th>4</th>\n",
       "      <td>5388</td>\n",
       "      <td>702</td>\n",
       "      <td>1983</td>\n",
       "      <td>2</td>\n",
       "      <td>1</td>\n",
       "      <td>1</td>\n",
       "      <td>3</td>\n",
       "      <td>1</td>\n",
       "      <td>0</td>\n",
       "      <td>0</td>\n",
       "      <td>...</td>\n",
       "      <td>0.0</td>\n",
       "      <td>0.0</td>\n",
       "      <td>0.0</td>\n",
       "      <td>1.0</td>\n",
       "      <td>0.0</td>\n",
       "      <td>0.0</td>\n",
       "      <td>0.0</td>\n",
       "      <td>1.0</td>\n",
       "      <td>0.0</td>\n",
       "      <td>0.0</td>\n",
       "    </tr>\n",
       "    <tr>\n",
       "      <th>5</th>\n",
       "      <td>8866</td>\n",
       "      <td>270</td>\n",
       "      <td>1920</td>\n",
       "      <td>3</td>\n",
       "      <td>1</td>\n",
       "      <td>0</td>\n",
       "      <td>3</td>\n",
       "      <td>1</td>\n",
       "      <td>1</td>\n",
       "      <td>0</td>\n",
       "      <td>...</td>\n",
       "      <td>1.0</td>\n",
       "      <td>0.0</td>\n",
       "      <td>0.0</td>\n",
       "      <td>1.0</td>\n",
       "      <td>0.0</td>\n",
       "      <td>0.0</td>\n",
       "      <td>0.0</td>\n",
       "      <td>1.0</td>\n",
       "      <td>0.0</td>\n",
       "      <td>0.0</td>\n",
       "    </tr>\n",
       "  </tbody>\n",
       "</table>\n",
       "<p>5 rows × 54 columns</p>\n",
       "</div>"
      ],
      "text/plain": [
       "   HDD65  CDD65  YEARMADE  BEDROOMS  NCOMBATH  NHAFBATH  OTHROOMS  CELLAR  \\\n",
       "0   4742   1080      2004         4         1         2         5       1   \n",
       "1   2662    199      1998         3         2         1         1       0   \n",
       "3   6034    672      1985         3         2         1         4       0   \n",
       "4   5388    702      1983         2         1         1         3       1   \n",
       "5   8866    270      1920         3         1         0         3       1   \n",
       "\n",
       "   CRAWL  CONCRETE     ...      ROOFTYPE_6  ROOFTYPE_7  ROOFTYPE_8  \\\n",
       "0      0         0     ...             0.0         0.0         0.0   \n",
       "1      0         0     ...             0.0         0.0         0.0   \n",
       "3      1         0     ...             0.0         0.0         0.0   \n",
       "4      0         0     ...             0.0         0.0         0.0   \n",
       "5      1         0     ...             1.0         0.0         0.0   \n",
       "\n",
       "   STORIES_20  STORIES_31  STORIES_32  STORIES_40  ADQINSUL_2  ADQINSUL_3  \\\n",
       "0         1.0         0.0         0.0         0.0         0.0         0.0   \n",
       "1         0.0         1.0         0.0         0.0         0.0         1.0   \n",
       "3         0.0         0.0         0.0         0.0         0.0         0.0   \n",
       "4         1.0         0.0         0.0         0.0         1.0         0.0   \n",
       "5         1.0         0.0         0.0         0.0         1.0         0.0   \n",
       "\n",
       "   ADQINSUL_4  \n",
       "0         0.0  \n",
       "1         0.0  \n",
       "3         0.0  \n",
       "4         0.0  \n",
       "5         0.0  \n",
       "\n",
       "[5 rows x 54 columns]"
      ]
     },
     "execution_count": 27,
     "metadata": {},
     "output_type": "execute_result"
    }
   ],
   "source": [
    "df.head()"
   ]
  },
  {
   "cell_type": "code",
   "execution_count": 89,
   "metadata": {
    "collapsed": false,
    "deletable": true,
    "editable": true
   },
   "outputs": [
    {
     "data": {
      "text/plain": [
       "((12082, 60), (12082,))"
      ]
     },
     "execution_count": 89,
     "metadata": {},
     "output_type": "execute_result"
    }
   ],
   "source": [
    "X = df.values\n",
    "y = data['KWH'].values\n",
    "X.shape, y.shape"
   ]
  },
  {
   "cell_type": "code",
   "execution_count": 90,
   "metadata": {
    "collapsed": false,
    "deletable": true,
    "editable": true
   },
   "outputs": [
    {
     "data": {
      "text/plain": [
       "LinearRegression(copy_X=True, fit_intercept=True, n_jobs=1, normalize=False)"
      ]
     },
     "execution_count": 90,
     "metadata": {},
     "output_type": "execute_result"
    }
   ],
   "source": [
    "X_train, X_test, y_train, y_test = train_test_split(X, y, test_size=0.2, random_state=42)\n",
    "clf = LinearRegression()\n",
    "clf.fit(X_train,y_train)"
   ]
  },
  {
   "cell_type": "code",
   "execution_count": 91,
   "metadata": {
    "collapsed": false,
    "deletable": true,
    "editable": true
   },
   "outputs": [
    {
     "name": "stdout",
     "output_type": "stream",
     "text": [
      "Train set r^2: 0.424521370182\n",
      "Test set r^2: 0.407699238861\n"
     ]
    }
   ],
   "source": [
    "print 'Train set r^2:', clf.score(X_train,y_train)\n",
    "print 'Test set r^2:', clf.score(X_test,y_test)"
   ]
  },
  {
   "cell_type": "code",
   "execution_count": 92,
   "metadata": {
    "collapsed": false,
    "deletable": true,
    "editable": true
   },
   "outputs": [
    {
     "data": {
      "text/plain": [
       "5762.850829279145"
      ]
     },
     "execution_count": 92,
     "metadata": {},
     "output_type": "execute_result"
    }
   ],
   "source": [
    "rms_error(clf.predict(X_test),y_test)"
   ]
  },
  {
   "cell_type": "code",
   "execution_count": 93,
   "metadata": {
    "collapsed": true,
    "deletable": true,
    "editable": true
   },
   "outputs": [],
   "source": [
    "residuals = y - clf.predict(X)"
   ]
  },
  {
   "cell_type": "code",
   "execution_count": 94,
   "metadata": {
    "collapsed": false,
    "deletable": true,
    "editable": true
   },
   "outputs": [
    {
     "data": {
      "text/plain": [
       "<matplotlib.axes._subplots.AxesSubplot at 0x11b979f10>"
      ]
     },
     "execution_count": 94,
     "metadata": {},
     "output_type": "execute_result"
    },
    {
     "data": {
      "image/png": "[encoded data removed]",
      "text/plain": [
       "<matplotlib.figure.Figure at 0x117b4afd0>"
      ]
     },
     "metadata": {},
     "output_type": "display_data"
    }
   ],
   "source": [
    "fig, axarr = plt.subplots(1,2,figsize=[12,6])\n",
    "axarr[0].scatter(df['TOTSQFT_EN'],residuals,alpha=0.1)\n",
    "sns.distplot(residuals, ax=axarr[1])"
   ]
  },
  {
   "cell_type": "markdown",
   "metadata": {},
   "source": [
    "#### Ridge Regression"
   ]
  },
  {
   "cell_type": "code",
   "execution_count": 107,
   "metadata": {
    "collapsed": true
   },
   "outputs": [],
   "source": [
    "from sklearn.linear_model import Ridge"
   ]
  },
  {
   "cell_type": "code",
   "execution_count": 126,
   "metadata": {
    "collapsed": false
   },
   "outputs": [
    {
     "data": {
      "text/plain": [
       "Ridge(alpha=1, copy_X=True, fit_intercept=True, max_iter=None,\n",
       "   normalize=False, random_state=None, solver='auto', tol=0.001)"
      ]
     },
     "execution_count": 126,
     "metadata": {},
     "output_type": "execute_result"
    }
   ],
   "source": [
    "clf = Ridge(alpha=1)\n",
    "clf.fit(X_train,y_train)"
   ]
  },
  {
   "cell_type": "code",
   "execution_count": 127,
   "metadata": {
    "collapsed": false
   },
   "outputs": [
    {
     "data": {
      "text/plain": [
       "0.40778360151794713"
      ]
     },
     "execution_count": 127,
     "metadata": {},
     "output_type": "execute_result"
    }
   ],
   "source": [
    "clf.score(X_test,y_test)"
   ]
  },
  {
   "cell_type": "markdown",
   "metadata": {
    "deletable": true,
    "editable": true
   },
   "source": [
    "### Random Forest"
   ]
  },
  {
   "cell_type": "code",
   "execution_count": 95,
   "metadata": {
    "collapsed": true,
    "deletable": true,
    "editable": true
   },
   "outputs": [],
   "source": [
    "from sklearn.ensemble import RandomForestRegressor\n",
    "from sklearn.grid_search import GridSearchCV"
   ]
  },
  {
   "cell_type": "code",
   "execution_count": 96,
   "metadata": {
    "collapsed": true
   },
   "outputs": [],
   "source": [
    "X_train, X_test, y_train, y_test = train_test_split(X, y, test_size=0.2, random_state=42)"
   ]
  },
  {
   "cell_type": "code",
   "execution_count": 97,
   "metadata": {
    "collapsed": false
   },
   "outputs": [
    {
     "data": {
      "text/plain": [
       "GridSearchCV(cv=None, error_score='raise',\n",
       "       estimator=RandomForestRegressor(bootstrap=True, criterion='mse', max_depth=None,\n",
       "           max_features='auto', max_leaf_nodes=None, min_samples_leaf=1,\n",
       "           min_samples_split=2, min_weight_fraction_leaf=0.0,\n",
       "           n_estimators=10, n_jobs=1, oob_score=False, random_state=None,\n",
       "           verbose=0, warm_start=False),\n",
       "       fit_params={}, iid=True, n_jobs=1,\n",
       "       param_grid={'max_features': array([ 5, 10, 16, 22, 28]), 'min_samples_leaf': [1, 11, 21, 31, 41]},\n",
       "       pre_dispatch='2*n_jobs', refit=True, scoring=None, verbose=0)"
      ]
     },
     "execution_count": 97,
     "metadata": {},
     "output_type": "execute_result"
    }
   ],
   "source": [
    "#CV \n",
    "params = {'max_features': np.linspace(math.sqrt(n_features),n_features,num=5,dtype='int'),\n",
    "         'min_samples_leaf': range(1,50,10)}\n",
    "clf = RandomForestRegressor()\n",
    "CV = GridSearchCV(clf, param_grid=params)\n",
    "CV.fit(X_train,y_train)"
   ]
  },
  {
   "cell_type": "code",
   "execution_count": 98,
   "metadata": {
    "collapsed": false
   },
   "outputs": [
    {
     "data": {
      "text/plain": [
       "{'max_features': 22, 'min_samples_leaf': 11}"
      ]
     },
     "execution_count": 98,
     "metadata": {},
     "output_type": "execute_result"
    }
   ],
   "source": [
    "CV.best_params_"
   ]
  },
  {
   "cell_type": "code",
   "execution_count": 99,
   "metadata": {
    "collapsed": false,
    "deletable": true,
    "editable": true
   },
   "outputs": [
    {
     "data": {
      "text/plain": [
       "RandomForestRegressor(bootstrap=True, criterion='mse', max_depth=None,\n",
       "           max_features=22, max_leaf_nodes=None, min_samples_leaf=11,\n",
       "           min_samples_split=2, min_weight_fraction_leaf=0.0,\n",
       "           n_estimators=10, n_jobs=1, oob_score=False, random_state=None,\n",
       "           verbose=0, warm_start=False)"
      ]
     },
     "execution_count": 99,
     "metadata": {},
     "output_type": "execute_result"
    }
   ],
   "source": [
    "clf = RandomForestRegressor(max_features=CV.best_params_['max_features'],\n",
    "                           min_samples_leaf=CV.best_params_['min_samples_leaf'])\n",
    "clf.fit(X_train,y_train)"
   ]
  },
  {
   "cell_type": "code",
   "execution_count": 100,
   "metadata": {
    "collapsed": true
   },
   "outputs": [],
   "source": [
    "scores = []\n",
    "for n in xrange(1,30,4):\n",
    "    clf = RandomForestRegressor(n_estimators=n,\n",
    "        max_features=CV.best_params_['max_features'],\n",
    "        min_samples_leaf=CV.best_params_['min_samples_leaf'])\n",
    "    clf.fit(X_train,y_train)\n",
    "    scores.append(clf.score(X_test,y_test))"
   ]
  },
  {
   "cell_type": "code",
   "execution_count": 101,
   "metadata": {
    "collapsed": false
   },
   "outputs": [
    {
     "data": {
      "text/plain": [
       "[<matplotlib.lines.Line2D at 0x1181cca50>]"
      ]
     },
     "execution_count": 101,
     "metadata": {},
     "output_type": "execute_result"
    },
    {
     "data": {
      "image/png": "[encoded data removed]",
      "text/plain": [
       "<matplotlib.figure.Figure at 0x1181ccfd0>"
      ]
     },
     "metadata": {},
     "output_type": "display_data"
    }
   ],
   "source": [
    "fig, ax = plt.subplots()\n",
    "ax.set_xlabel('Number of Trees')\n",
    "ax.set_ylabel('Score')\n",
    "plt.plot(xrange(1,30,4),scores,'bo-')"
   ]
  },
  {
   "cell_type": "code",
   "execution_count": 102,
   "metadata": {
    "collapsed": false,
    "deletable": true,
    "editable": true
   },
   "outputs": [
    {
     "name": "stdout",
     "output_type": "stream",
     "text": [
      "Train set r^2: 0.568386657075\n",
      "Test set r^2: 0.401828222892\n"
     ]
    }
   ],
   "source": [
    "print 'Train set r^2:', clf.score(X_train,y_train)\n",
    "print 'Test set r^2:', clf.score(X_test,y_test)"
   ]
  },
  {
   "cell_type": "code",
   "execution_count": 103,
   "metadata": {
    "collapsed": false,
    "deletable": true,
    "editable": true
   },
   "outputs": [
    {
     "data": {
      "text/plain": [
       "5791.341726501673"
      ]
     },
     "execution_count": 103,
     "metadata": {},
     "output_type": "execute_result"
    }
   ],
   "source": [
    "rms_error(clf.predict(X_test),y_test)"
   ]
  },
  {
   "cell_type": "code",
   "execution_count": 104,
   "metadata": {
    "collapsed": false,
    "deletable": true,
    "editable": true
   },
   "outputs": [],
   "source": [
    "feat_imp = pd.DataFrame(index=df.columns)\n",
    "feat_imp['imp'] = clf.feature_importances_"
   ]
  },
  {
   "cell_type": "code",
   "execution_count": 129,
   "metadata": {
    "collapsed": false,
    "deletable": true,
    "editable": true,
    "scrolled": true
   },
   "outputs": [
    {
     "data": {
      "text/html": [
       "<div>\n",
       "<table border=\"1\" class=\"dataframe\">\n",
       "  <thead>\n",
       "    <tr style=\"text-align: right;\">\n",
       "      <th></th>\n",
       "      <th>imp</th>\n",
       "    </tr>\n",
       "  </thead>\n",
       "  <tbody>\n",
       "    <tr>\n",
       "      <th>BEDROOMS</th>\n",
       "      <td>0.145956</td>\n",
       "    </tr>\n",
       "    <tr>\n",
       "      <th>TOTSQFT_EN</th>\n",
       "      <td>0.129885</td>\n",
       "    </tr>\n",
       "    <tr>\n",
       "      <th>REGIONC_3</th>\n",
       "      <td>0.111433</td>\n",
       "    </tr>\n",
       "    <tr>\n",
       "      <th>NCOMBATH</th>\n",
       "      <td>0.091249</td>\n",
       "    </tr>\n",
       "    <tr>\n",
       "      <th>CDD65</th>\n",
       "      <td>0.084732</td>\n",
       "    </tr>\n",
       "    <tr>\n",
       "      <th>HDD65</th>\n",
       "      <td>0.052305</td>\n",
       "    </tr>\n",
       "    <tr>\n",
       "      <th>TYPEHUQ_2</th>\n",
       "      <td>0.051187</td>\n",
       "    </tr>\n",
       "    <tr>\n",
       "      <th>UR_U</th>\n",
       "      <td>0.043906</td>\n",
       "    </tr>\n",
       "    <tr>\n",
       "      <th>YEARMADE</th>\n",
       "      <td>0.038775</td>\n",
       "    </tr>\n",
       "    <tr>\n",
       "      <th>OTHROOMS</th>\n",
       "      <td>0.025858</td>\n",
       "    </tr>\n",
       "    <tr>\n",
       "      <th>AIA_Zone_5</th>\n",
       "      <td>0.022815</td>\n",
       "    </tr>\n",
       "    <tr>\n",
       "      <th>TYPEHUQ_5</th>\n",
       "      <td>0.021233</td>\n",
       "    </tr>\n",
       "    <tr>\n",
       "      <th>WINDOWS</th>\n",
       "      <td>0.015352</td>\n",
       "    </tr>\n",
       "    <tr>\n",
       "      <th>POOL</th>\n",
       "      <td>0.013639</td>\n",
       "    </tr>\n",
       "    <tr>\n",
       "      <th>AIA_Zone_3</th>\n",
       "      <td>0.012367</td>\n",
       "    </tr>\n",
       "    <tr>\n",
       "      <th>Climate_Region_Pub_4</th>\n",
       "      <td>0.011864</td>\n",
       "    </tr>\n",
       "    <tr>\n",
       "      <th>REGIONC_2</th>\n",
       "      <td>0.010644</td>\n",
       "    </tr>\n",
       "    <tr>\n",
       "      <th>STORIES_10</th>\n",
       "      <td>0.010359</td>\n",
       "    </tr>\n",
       "    <tr>\n",
       "      <th>AIRCOND</th>\n",
       "      <td>0.008599</td>\n",
       "    </tr>\n",
       "    <tr>\n",
       "      <th>REGIONC_4</th>\n",
       "      <td>0.008164</td>\n",
       "    </tr>\n",
       "    <tr>\n",
       "      <th>Climate_Region_Pub_3</th>\n",
       "      <td>0.007945</td>\n",
       "    </tr>\n",
       "    <tr>\n",
       "      <th>AIA_Zone_4</th>\n",
       "      <td>0.007795</td>\n",
       "    </tr>\n",
       "    <tr>\n",
       "      <th>NHAFBATH</th>\n",
       "      <td>0.005910</td>\n",
       "    </tr>\n",
       "    <tr>\n",
       "      <th>ROOFTYPE_5</th>\n",
       "      <td>0.005661</td>\n",
       "    </tr>\n",
       "    <tr>\n",
       "      <th>WALLTYPE_3</th>\n",
       "      <td>0.005160</td>\n",
       "    </tr>\n",
       "    <tr>\n",
       "      <th>METROMICRO_MICRO</th>\n",
       "      <td>0.005064</td>\n",
       "    </tr>\n",
       "    <tr>\n",
       "      <th>CRAWL</th>\n",
       "      <td>0.004235</td>\n",
       "    </tr>\n",
       "    <tr>\n",
       "      <th>CONCRETE</th>\n",
       "      <td>0.004081</td>\n",
       "    </tr>\n",
       "    <tr>\n",
       "      <th>ADQINSUL_2</th>\n",
       "      <td>0.004066</td>\n",
       "    </tr>\n",
       "    <tr>\n",
       "      <th>ATTIC</th>\n",
       "      <td>0.004002</td>\n",
       "    </tr>\n",
       "    <tr>\n",
       "      <th>HIGHCEIL</th>\n",
       "      <td>0.003944</td>\n",
       "    </tr>\n",
       "    <tr>\n",
       "      <th>WALLTYPE_2</th>\n",
       "      <td>0.003668</td>\n",
       "    </tr>\n",
       "    <tr>\n",
       "      <th>STORIES_20</th>\n",
       "      <td>0.003462</td>\n",
       "    </tr>\n",
       "    <tr>\n",
       "      <th>CATHCEIL</th>\n",
       "      <td>0.002897</td>\n",
       "    </tr>\n",
       "    <tr>\n",
       "      <th>CELLAR</th>\n",
       "      <td>0.002366</td>\n",
       "    </tr>\n",
       "    <tr>\n",
       "      <th>WALLTYPE_4</th>\n",
       "      <td>0.002358</td>\n",
       "    </tr>\n",
       "    <tr>\n",
       "      <th>ADQINSUL_3</th>\n",
       "      <td>0.002339</td>\n",
       "    </tr>\n",
       "    <tr>\n",
       "      <th>Climate_Region_Pub_2</th>\n",
       "      <td>0.002157</td>\n",
       "    </tr>\n",
       "    <tr>\n",
       "      <th>Climate_Region_Pub_5</th>\n",
       "      <td>0.001950</td>\n",
       "    </tr>\n",
       "    <tr>\n",
       "      <th>METROMICRO_NONE</th>\n",
       "      <td>0.001820</td>\n",
       "    </tr>\n",
       "    <tr>\n",
       "      <th>ROOFTYPE_3</th>\n",
       "      <td>0.001745</td>\n",
       "    </tr>\n",
       "    <tr>\n",
       "      <th>AIA_Zone_2</th>\n",
       "      <td>0.001561</td>\n",
       "    </tr>\n",
       "    <tr>\n",
       "      <th>ROOFTYPE_6</th>\n",
       "      <td>0.001490</td>\n",
       "    </tr>\n",
       "    <tr>\n",
       "      <th>TYPEHUQ_4</th>\n",
       "      <td>0.001199</td>\n",
       "    </tr>\n",
       "    <tr>\n",
       "      <th>TYPEHUQ_3</th>\n",
       "      <td>0.001045</td>\n",
       "    </tr>\n",
       "    <tr>\n",
       "      <th>WALLTYPE_7</th>\n",
       "      <td>0.000621</td>\n",
       "    </tr>\n",
       "    <tr>\n",
       "      <th>HEATHOME</th>\n",
       "      <td>0.000507</td>\n",
       "    </tr>\n",
       "    <tr>\n",
       "      <th>ROOFTYPE_2</th>\n",
       "      <td>0.000376</td>\n",
       "    </tr>\n",
       "    <tr>\n",
       "      <th>ROOFTYPE_1</th>\n",
       "      <td>0.000243</td>\n",
       "    </tr>\n",
       "    <tr>\n",
       "      <th>STORIES_40</th>\n",
       "      <td>0.000010</td>\n",
       "    </tr>\n",
       "    <tr>\n",
       "      <th>STORIES_31</th>\n",
       "      <td>0.000000</td>\n",
       "    </tr>\n",
       "    <tr>\n",
       "      <th>STORIES_32</th>\n",
       "      <td>0.000000</td>\n",
       "    </tr>\n",
       "    <tr>\n",
       "      <th>ROOFTYPE_4</th>\n",
       "      <td>0.000000</td>\n",
       "    </tr>\n",
       "    <tr>\n",
       "      <th>ROOFTYPE_8</th>\n",
       "      <td>0.000000</td>\n",
       "    </tr>\n",
       "    <tr>\n",
       "      <th>ROOFTYPE_7</th>\n",
       "      <td>0.000000</td>\n",
       "    </tr>\n",
       "    <tr>\n",
       "      <th>WALLTYPE_9</th>\n",
       "      <td>0.000000</td>\n",
       "    </tr>\n",
       "    <tr>\n",
       "      <th>WALLTYPE_8</th>\n",
       "      <td>0.000000</td>\n",
       "    </tr>\n",
       "    <tr>\n",
       "      <th>WALLTYPE_6</th>\n",
       "      <td>0.000000</td>\n",
       "    </tr>\n",
       "    <tr>\n",
       "      <th>WALLTYPE_5</th>\n",
       "      <td>0.000000</td>\n",
       "    </tr>\n",
       "    <tr>\n",
       "      <th>ADQINSUL_4</th>\n",
       "      <td>0.000000</td>\n",
       "    </tr>\n",
       "  </tbody>\n",
       "</table>\n",
       "</div>"
      ],
      "text/plain": [
       "                           imp\n",
       "BEDROOMS              0.145956\n",
       "TOTSQFT_EN            0.129885\n",
       "REGIONC_3             0.111433\n",
       "NCOMBATH              0.091249\n",
       "CDD65                 0.084732\n",
       "HDD65                 0.052305\n",
       "TYPEHUQ_2             0.051187\n",
       "UR_U                  0.043906\n",
       "YEARMADE              0.038775\n",
       "OTHROOMS              0.025858\n",
       "AIA_Zone_5            0.022815\n",
       "TYPEHUQ_5             0.021233\n",
       "WINDOWS               0.015352\n",
       "POOL                  0.013639\n",
       "AIA_Zone_3            0.012367\n",
       "Climate_Region_Pub_4  0.011864\n",
       "REGIONC_2             0.010644\n",
       "STORIES_10            0.010359\n",
       "AIRCOND               0.008599\n",
       "REGIONC_4             0.008164\n",
       "Climate_Region_Pub_3  0.007945\n",
       "AIA_Zone_4            0.007795\n",
       "NHAFBATH              0.005910\n",
       "ROOFTYPE_5            0.005661\n",
       "WALLTYPE_3            0.005160\n",
       "METROMICRO_MICRO      0.005064\n",
       "CRAWL                 0.004235\n",
       "CONCRETE              0.004081\n",
       "ADQINSUL_2            0.004066\n",
       "ATTIC                 0.004002\n",
       "HIGHCEIL              0.003944\n",
       "WALLTYPE_2            0.003668\n",
       "STORIES_20            0.003462\n",
       "CATHCEIL              0.002897\n",
       "CELLAR                0.002366\n",
       "WALLTYPE_4            0.002358\n",
       "ADQINSUL_3            0.002339\n",
       "Climate_Region_Pub_2  0.002157\n",
       "Climate_Region_Pub_5  0.001950\n",
       "METROMICRO_NONE       0.001820\n",
       "ROOFTYPE_3            0.001745\n",
       "AIA_Zone_2            0.001561\n",
       "ROOFTYPE_6            0.001490\n",
       "TYPEHUQ_4             0.001199\n",
       "TYPEHUQ_3             0.001045\n",
       "WALLTYPE_7            0.000621\n",
       "HEATHOME              0.000507\n",
       "ROOFTYPE_2            0.000376\n",
       "ROOFTYPE_1            0.000243\n",
       "STORIES_40            0.000010\n",
       "STORIES_31            0.000000\n",
       "STORIES_32            0.000000\n",
       "ROOFTYPE_4            0.000000\n",
       "ROOFTYPE_8            0.000000\n",
       "ROOFTYPE_7            0.000000\n",
       "WALLTYPE_9            0.000000\n",
       "WALLTYPE_8            0.000000\n",
       "WALLTYPE_6            0.000000\n",
       "WALLTYPE_5            0.000000\n",
       "ADQINSUL_4            0.000000"
      ]
     },
     "execution_count": 129,
     "metadata": {},
     "output_type": "execute_result"
    }
   ],
   "source": [
    "feat_imp.sort_values(by='imp', ascending=False)"
   ]
  },
  {
   "cell_type": "code",
   "execution_count": 164,
   "metadata": {
    "collapsed": false,
    "deletable": true,
    "editable": true
   },
   "outputs": [
    {
     "data": {
      "text/plain": [
       "54"
      ]
     },
     "execution_count": 164,
     "metadata": {},
     "output_type": "execute_result"
    }
   ],
   "source": [
    "len(clf.feature_importances_)"
   ]
  },
  {
   "cell_type": "markdown",
   "metadata": {
    "collapsed": true,
    "deletable": true,
    "editable": true
   },
   "source": [
    "### Feature Selection"
   ]
  },
  {
   "cell_type": "code",
   "execution_count": 128,
   "metadata": {
    "collapsed": true
   },
   "outputs": [],
   "source": [
    "from sklearn.feature_selection import SelectKBest"
   ]
  },
  {
   "cell_type": "code",
   "execution_count": 132,
   "metadata": {
    "collapsed": true
   },
   "outputs": [],
   "source": [
    "house_categ = ['REGIONC','DIVISION','REPORTABLE_DOMAIN','TYPEHUQ','Climate_Region_Pub','AIA_Zone',\n",
    "              'METROMICRO','UR','KOWNRENT','CONDCOOP','WALLTYPE','ROOFTYPE','FUELHEAT','COOLTYPE',\n",
    "              'USECENAC','FUELPOOL','TYPEGLASS','ADQINSUL','PELHEAT','PELAC']\n",
    "house_quant = ['HDD65','CDD65','HDD30YR','CDD30YR','YEARMADE','STORIES','BEDROOMS','NCOMBATH','NHAFBATH',\n",
    "              'OTHROOMS','TOTROOMS','ACROOMS','NUMBERAC','DOOR1SUM','WINDOWS','TOTSQFT_EN','TOTHSQFT','TOTCSQFT']\n",
    "house_bin = ['CELLAR','CRAWL','CONCRETE','BASEFIN','BASEHEAT','BASECOOL','ATTIC','ATTICFIN','ATTCHEAT',\n",
    "            'ATTCCOOL','GARGHEAT','PROTHERM','DUCTS','CENACHP','PROTHERMAC','HIGHCEIL','CATHCEIL','POOL',\n",
    "             'HEATHOME','ELWARM','ELCOOL','ELWATER','ONSITE']\n",
    "\n",
    "mem_quant = ['NHSLDMEM','HHAGE','MONEYPY']\n",
    "mem_bin = ['HUPROJ','ATHOME']"
   ]
  },
  {
   "cell_type": "code",
   "execution_count": 136,
   "metadata": {
    "collapsed": false
   },
   "outputs": [],
   "source": [
    "df = data[house_categ+house_quant+house_bin+mem_quant+mem_bin]"
   ]
  },
  {
   "cell_type": "code",
   "execution_count": 137,
   "metadata": {
    "collapsed": false
   },
   "outputs": [],
   "source": [
    "#Fixing binary data with N/A(-2) entries\n",
    "df.loc[:,house_bin+mem_bin] = df[house_bin+mem_bin].applymap(lambda x: 0 if x==-2 else x)\n",
    "\n",
    "#Encoding Categorical data\n",
    "df = pd.get_dummies(df,columns=house_categ,prefix=house_categ,drop_first=True)"
   ]
  },
  {
   "cell_type": "code",
   "execution_count": 138,
   "metadata": {
    "collapsed": false
   },
   "outputs": [
    {
     "data": {
      "text/plain": [
       "(12082, 152)"
      ]
     },
     "execution_count": 138,
     "metadata": {},
     "output_type": "execute_result"
    }
   ],
   "source": [
    "df.shape"
   ]
  },
  {
   "cell_type": "code",
   "execution_count": 139,
   "metadata": {
    "collapsed": true
   },
   "outputs": [],
   "source": [
    "X = df.values\n",
    "y = data['KWH'].values"
   ]
  },
  {
   "cell_type": "code",
   "execution_count": 187,
   "metadata": {
    "collapsed": false
   },
   "outputs": [
    {
     "data": {
      "text/plain": [
       "SelectKBest(k=50, score_func=<function f_regression at 0x115821de8>)"
      ]
     },
     "execution_count": 187,
     "metadata": {},
     "output_type": "execute_result"
    }
   ],
   "source": [
    "KBest = SelectKBest(f_regression,k=50)\n",
    "KBest.fit(X,y)"
   ]
  },
  {
   "cell_type": "code",
   "execution_count": 176,
   "metadata": {
    "collapsed": false
   },
   "outputs": [],
   "source": [
    "KBest_df = pd.DataFrame(index=df.columns)\n",
    "KBest_df['score'] = KBest.scores_\n",
    "KBest_df['p_value'] = KBest.pvalues_"
   ]
  },
  {
   "cell_type": "code",
   "execution_count": 167,
   "metadata": {
    "collapsed": false
   },
   "outputs": [
    {
     "data": {
      "text/html": [
       "<div>\n",
       "<table border=\"1\" class=\"dataframe\">\n",
       "  <thead>\n",
       "    <tr style=\"text-align: right;\">\n",
       "      <th></th>\n",
       "      <th>score</th>\n",
       "      <th>p_value</th>\n",
       "    </tr>\n",
       "  </thead>\n",
       "  <tbody>\n",
       "    <tr>\n",
       "      <th>TOTCSQFT</th>\n",
       "      <td>3649.077658</td>\n",
       "      <td>0.000000e+00</td>\n",
       "    </tr>\n",
       "    <tr>\n",
       "      <th>ACROOMS</th>\n",
       "      <td>2820.767832</td>\n",
       "      <td>0.000000e+00</td>\n",
       "    </tr>\n",
       "    <tr>\n",
       "      <th>TOTROOMS</th>\n",
       "      <td>2811.157650</td>\n",
       "      <td>0.000000e+00</td>\n",
       "    </tr>\n",
       "    <tr>\n",
       "      <th>NCOMBATH</th>\n",
       "      <td>2508.198236</td>\n",
       "      <td>0.000000e+00</td>\n",
       "    </tr>\n",
       "    <tr>\n",
       "      <th>TOTHSQFT</th>\n",
       "      <td>2399.812919</td>\n",
       "      <td>0.000000e+00</td>\n",
       "    </tr>\n",
       "    <tr>\n",
       "      <th>BEDROOMS</th>\n",
       "      <td>2370.632732</td>\n",
       "      <td>0.000000e+00</td>\n",
       "    </tr>\n",
       "    <tr>\n",
       "      <th>TOTSQFT_EN</th>\n",
       "      <td>1996.783256</td>\n",
       "      <td>0.000000e+00</td>\n",
       "    </tr>\n",
       "    <tr>\n",
       "      <th>USECENAC_3</th>\n",
       "      <td>1688.132420</td>\n",
       "      <td>0.000000e+00</td>\n",
       "    </tr>\n",
       "    <tr>\n",
       "      <th>OTHROOMS</th>\n",
       "      <td>1644.210999</td>\n",
       "      <td>0.000000e+00</td>\n",
       "    </tr>\n",
       "    <tr>\n",
       "      <th>ELWATER</th>\n",
       "      <td>1621.596922</td>\n",
       "      <td>0.000000e+00</td>\n",
       "    </tr>\n",
       "    <tr>\n",
       "      <th>FUELHEAT_5</th>\n",
       "      <td>1471.019342</td>\n",
       "      <td>8.248846e-304</td>\n",
       "    </tr>\n",
       "    <tr>\n",
       "      <th>TYPEHUQ_2</th>\n",
       "      <td>1464.338620</td>\n",
       "      <td>1.624848e-302</td>\n",
       "    </tr>\n",
       "    <tr>\n",
       "      <th>REGIONC_3</th>\n",
       "      <td>1453.785568</td>\n",
       "      <td>1.806440e-300</td>\n",
       "    </tr>\n",
       "    <tr>\n",
       "      <th>PELAC_1</th>\n",
       "      <td>1439.812418</td>\n",
       "      <td>9.297997e-298</td>\n",
       "    </tr>\n",
       "    <tr>\n",
       "      <th>COOLTYPE_1</th>\n",
       "      <td>1366.270605</td>\n",
       "      <td>1.933033e-283</td>\n",
       "    </tr>\n",
       "    <tr>\n",
       "      <th>WINDOWS</th>\n",
       "      <td>1154.436194</td>\n",
       "      <td>9.409976e-242</td>\n",
       "    </tr>\n",
       "    <tr>\n",
       "      <th>ELWARM</th>\n",
       "      <td>1127.612818</td>\n",
       "      <td>1.996094e-236</td>\n",
       "    </tr>\n",
       "    <tr>\n",
       "      <th>PELHEAT_1</th>\n",
       "      <td>1106.415871</td>\n",
       "      <td>3.290127e-232</td>\n",
       "    </tr>\n",
       "    <tr>\n",
       "      <th>STORIES</th>\n",
       "      <td>1041.700088</td>\n",
       "      <td>2.720451e-219</td>\n",
       "    </tr>\n",
       "    <tr>\n",
       "      <th>TYPEHUQ_5</th>\n",
       "      <td>1033.524177</td>\n",
       "      <td>1.178030e-217</td>\n",
       "    </tr>\n",
       "    <tr>\n",
       "      <th>KOWNRENT_2</th>\n",
       "      <td>1018.731728</td>\n",
       "      <td>1.083141e-214</td>\n",
       "    </tr>\n",
       "    <tr>\n",
       "      <th>NHSLDMEM</th>\n",
       "      <td>1011.030040</td>\n",
       "      <td>3.793042e-213</td>\n",
       "    </tr>\n",
       "    <tr>\n",
       "      <th>CENACHP</th>\n",
       "      <td>888.993132</td>\n",
       "      <td>1.488969e-188</td>\n",
       "    </tr>\n",
       "    <tr>\n",
       "      <th>UR_U</th>\n",
       "      <td>884.337083</td>\n",
       "      <td>1.305743e-187</td>\n",
       "    </tr>\n",
       "    <tr>\n",
       "      <th>CDD30YR</th>\n",
       "      <td>866.612518</td>\n",
       "      <td>5.113285e-184</td>\n",
       "    </tr>\n",
       "    <tr>\n",
       "      <th>FUELHEAT_1</th>\n",
       "      <td>790.290226</td>\n",
       "      <td>1.725670e-168</td>\n",
       "    </tr>\n",
       "    <tr>\n",
       "      <th>CDD65</th>\n",
       "      <td>789.254419</td>\n",
       "      <td>2.807660e-168</td>\n",
       "    </tr>\n",
       "    <tr>\n",
       "      <th>MONEYPY</th>\n",
       "      <td>739.253015</td>\n",
       "      <td>4.713086e-158</td>\n",
       "    </tr>\n",
       "    <tr>\n",
       "      <th>ELCOOL</th>\n",
       "      <td>736.256637</td>\n",
       "      <td>1.937936e-157</td>\n",
       "    </tr>\n",
       "    <tr>\n",
       "      <th>AIA_Zone_5</th>\n",
       "      <td>728.952507</td>\n",
       "      <td>6.091964e-156</td>\n",
       "    </tr>\n",
       "  </tbody>\n",
       "</table>\n",
       "</div>"
      ],
      "text/plain": [
       "                  score        p_value\n",
       "TOTCSQFT    3649.077658   0.000000e+00\n",
       "ACROOMS     2820.767832   0.000000e+00\n",
       "TOTROOMS    2811.157650   0.000000e+00\n",
       "NCOMBATH    2508.198236   0.000000e+00\n",
       "TOTHSQFT    2399.812919   0.000000e+00\n",
       "BEDROOMS    2370.632732   0.000000e+00\n",
       "TOTSQFT_EN  1996.783256   0.000000e+00\n",
       "USECENAC_3  1688.132420   0.000000e+00\n",
       "OTHROOMS    1644.210999   0.000000e+00\n",
       "ELWATER     1621.596922   0.000000e+00\n",
       "FUELHEAT_5  1471.019342  8.248846e-304\n",
       "TYPEHUQ_2   1464.338620  1.624848e-302\n",
       "REGIONC_3   1453.785568  1.806440e-300\n",
       "PELAC_1     1439.812418  9.297997e-298\n",
       "COOLTYPE_1  1366.270605  1.933033e-283\n",
       "WINDOWS     1154.436194  9.409976e-242\n",
       "ELWARM      1127.612818  1.996094e-236\n",
       "PELHEAT_1   1106.415871  3.290127e-232\n",
       "STORIES     1041.700088  2.720451e-219\n",
       "TYPEHUQ_5   1033.524177  1.178030e-217\n",
       "KOWNRENT_2  1018.731728  1.083141e-214\n",
       "NHSLDMEM    1011.030040  3.793042e-213\n",
       "CENACHP      888.993132  1.488969e-188\n",
       "UR_U         884.337083  1.305743e-187\n",
       "CDD30YR      866.612518  5.113285e-184\n",
       "FUELHEAT_1   790.290226  1.725670e-168\n",
       "CDD65        789.254419  2.807660e-168\n",
       "MONEYPY      739.253015  4.713086e-158\n",
       "ELCOOL       736.256637  1.937936e-157\n",
       "AIA_Zone_5   728.952507  6.091964e-156"
      ]
     },
     "execution_count": 167,
     "metadata": {},
     "output_type": "execute_result"
    }
   ],
   "source": [
    "KBest_df.sort_values(by='score',ascending=False).head(30)"
   ]
  },
  {
   "cell_type": "code",
   "execution_count": 188,
   "metadata": {
    "collapsed": false
   },
   "outputs": [
    {
     "data": {
      "text/plain": [
       "(12082, 152)"
      ]
     },
     "execution_count": 188,
     "metadata": {},
     "output_type": "execute_result"
    }
   ],
   "source": [
    "X.shape"
   ]
  },
  {
   "cell_type": "code",
   "execution_count": 189,
   "metadata": {
    "collapsed": true
   },
   "outputs": [],
   "source": [
    "X_30 = KBest.transform(X)"
   ]
  },
  {
   "cell_type": "code",
   "execution_count": 190,
   "metadata": {
    "collapsed": false
   },
   "outputs": [
    {
     "data": {
      "text/plain": [
       "(12082, 50)"
      ]
     },
     "execution_count": 190,
     "metadata": {},
     "output_type": "execute_result"
    }
   ],
   "source": [
    "X_30.shape"
   ]
  },
  {
   "cell_type": "code",
   "execution_count": 191,
   "metadata": {
    "collapsed": false
   },
   "outputs": [
    {
     "data": {
      "text/plain": [
       "Ridge(alpha=1, copy_X=True, fit_intercept=True, max_iter=None,\n",
       "   normalize=False, random_state=None, solver='auto', tol=0.001)"
      ]
     },
     "execution_count": 191,
     "metadata": {},
     "output_type": "execute_result"
    }
   ],
   "source": [
    "X_train, X_test, y_train, y_test = train_test_split(X_30, y, test_size=0.2, random_state=42)\n",
    "clf = Ridge(alpha=1)\n",
    "clf.fit(X_train,y_train)"
   ]
  },
  {
   "cell_type": "code",
   "execution_count": 192,
   "metadata": {
    "collapsed": false
   },
   "outputs": [
    {
     "data": {
      "text/plain": [
       "0.53616445803697466"
      ]
     },
     "execution_count": 192,
     "metadata": {},
     "output_type": "execute_result"
    }
   ],
   "source": [
    "clf.score(X_test,y_test)"
   ]
  },
  {
   "cell_type": "code",
   "execution_count": 193,
   "metadata": {
    "collapsed": false
   },
   "outputs": [
    {
     "data": {
      "text/plain": [
       "GridSearchCV(cv=None, error_score='raise',\n",
       "       estimator=RandomForestRegressor(bootstrap=True, criterion='mse', max_depth=None,\n",
       "           max_features='auto', max_leaf_nodes=None, min_samples_leaf=1,\n",
       "           min_samples_split=2, min_weight_fraction_leaf=0.0,\n",
       "           n_estimators=10, n_jobs=1, oob_score=False, random_state=None,\n",
       "           verbose=0, warm_start=False),\n",
       "       fit_params={}, iid=True, n_jobs=1,\n",
       "       param_grid={'max_features': array([ 5, 10, 16, 22, 28]), 'min_samples_leaf': [1, 11, 21, 31, 41]},\n",
       "       pre_dispatch='2*n_jobs', refit=True, scoring=None, verbose=0)"
      ]
     },
     "execution_count": 193,
     "metadata": {},
     "output_type": "execute_result"
    }
   ],
   "source": [
    "#CV \n",
    "params = {'max_features': np.linspace(math.sqrt(n_features),n_features,num=5,dtype='int'),\n",
    "         'min_samples_leaf': range(1,50,10)}\n",
    "clf = RandomForestRegressor()\n",
    "CV = GridSearchCV(clf, param_grid=params)\n",
    "CV.fit(X_train,y_train)"
   ]
  },
  {
   "cell_type": "code",
   "execution_count": 194,
   "metadata": {
    "collapsed": false
   },
   "outputs": [
    {
     "data": {
      "text/plain": [
       "RandomForestRegressor(bootstrap=True, criterion='mse', max_depth=None,\n",
       "           max_features=28, max_leaf_nodes=None, min_samples_leaf=11,\n",
       "           min_samples_split=2, min_weight_fraction_leaf=0.0,\n",
       "           n_estimators=10, n_jobs=1, oob_score=False, random_state=None,\n",
       "           verbose=0, warm_start=False)"
      ]
     },
     "execution_count": 194,
     "metadata": {},
     "output_type": "execute_result"
    }
   ],
   "source": [
    "clf = RandomForestRegressor(max_features=CV.best_params_['max_features'],\n",
    "                           min_samples_leaf=CV.best_params_['min_samples_leaf'])\n",
    "clf.fit(X_train,y_train)"
   ]
  },
  {
   "cell_type": "code",
   "execution_count": 195,
   "metadata": {
    "collapsed": false
   },
   "outputs": [
    {
     "data": {
      "text/plain": [
       "0.68240555787840407"
      ]
     },
     "execution_count": 195,
     "metadata": {},
     "output_type": "execute_result"
    }
   ],
   "source": [
    "clf.score(X_train,y_train)"
   ]
  },
  {
   "cell_type": "code",
   "execution_count": 196,
   "metadata": {
    "collapsed": false
   },
   "outputs": [
    {
     "data": {
      "text/plain": [
       "0.50807892715638026"
      ]
     },
     "execution_count": 196,
     "metadata": {},
     "output_type": "execute_result"
    }
   ],
   "source": [
    "clf.score(X_test,y_test)"
   ]
  },
  {
   "cell_type": "code",
   "execution_count": null,
   "metadata": {
    "collapsed": true
   },
   "outputs": [],
   "source": []
  }
 ],
 "metadata": {
  "kernelspec": {
   "display_name": "Python [default]",
   "language": "python",
   "name": "python2"
  },
  "language_info": {
   "codemirror_mode": {
    "name": "ipython",
    "version": 2
   },
   "file_extension": ".py",
   "mimetype": "text/x-python",
   "name": "python",
   "nbconvert_exporter": "python",
   "pygments_lexer": "ipython2",
   "version": "2.7.13"
  }
 },
 "nbformat": 4,
 "nbformat_minor": 2
}
