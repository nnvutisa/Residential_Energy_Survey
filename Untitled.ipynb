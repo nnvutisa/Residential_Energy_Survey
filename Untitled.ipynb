{
 "cells": [
  {
   "cell_type": "code",
   "execution_count": 1,
   "metadata": {
    "collapsed": true
   },
   "outputs": [],
   "source": [
    "import pandas as pd\n",
    "import numpy as np"
   ]
  },
  {
   "cell_type": "code",
   "execution_count": 3,
   "metadata": {
    "collapsed": false
   },
   "outputs": [],
   "source": [
    "with open('columns_list.txt') as f:\n",
    "    x = f.readlines()"
   ]
  },
  {
   "cell_type": "code",
   "execution_count": 5,
   "metadata": {
    "collapsed": false
   },
   "outputs": [
    {
     "data": {
      "text/plain": [
       "list"
      ]
     },
     "execution_count": 5,
     "metadata": {},
     "output_type": "execute_result"
    }
   ],
   "source": [
    "type(x)"
   ]
  },
  {
   "cell_type": "code",
   "execution_count": 6,
   "metadata": {
    "collapsed": false
   },
   "outputs": [
    {
     "data": {
      "text/plain": [
       "19"
      ]
     },
     "execution_count": 6,
     "metadata": {},
     "output_type": "execute_result"
    }
   ],
   "source": [
    "len(x)"
   ]
  },
  {
   "cell_type": "code",
   "execution_count": 7,
   "metadata": {
    "collapsed": false
   },
   "outputs": [
    {
     "data": {
      "text/plain": [
       "'house_qual = [REGIONC, DIVISION, REPORTABLE_DOMAIN, TYPEHUQ, Climate_Region_Pub, AIA_Zone, METROMICRO, UR, KOWNRENT, CONDCOOP, CONVERSION, ORIG1FAM, LOOKLIKE, WALLTYPE, ROOFTYPE, STORIES, BASEHT2, PCTBSTHT, BASECL2, PCTBSTCL, BASEUSE, ATTCHT2, PCTATTHT, ATTCCL2, PCTATTCL, ATTICUSE, GARGLOC, SIZEOFGARAGE, SIZEOFDETACH, FUELPOOL, FUELTUB, HELPCFL, HELPCFLY, WINDOWS, TYPEGLASS, NEWGLASS, HELPWIN, HELPWINY, ADQINSUL, AGEINS, HELPINS, HELPINSY, DRAFTY, AGEWS, HELPWS, HELPWSY, AGEAUD, HELPAUD, HELPAUDY, PELHEAT, PELHOTWA, PELCOOK, PELAC, PELLIGHT, OTHERWAYEL, PGASHEAT, PGASHTWA, PUGCOOK, PUGOTH, OTHERWAYNG, FOPAY, OTHERWAYFO, LPGPAY, OTHERWAYLPG, WOODAMT, IECC_Climate_Pub]\\n'"
      ]
     },
     "execution_count": 7,
     "metadata": {},
     "output_type": "execute_result"
    }
   ],
   "source": [
    "x[0]"
   ]
  },
  {
   "cell_type": "code",
   "execution_count": null,
   "metadata": {
    "collapsed": true
   },
   "outputs": [],
   "source": [
    "column_list = {}"
   ]
  },
  {
   "cell_type": "code",
   "execution_count": 11,
   "metadata": {
    "collapsed": false
   },
   "outputs": [],
   "source": [
    "col_name, list_txt = x[0].strip().replace(' ','').split('=')"
   ]
  },
  {
   "cell_type": "code",
   "execution_count": 12,
   "metadata": {
    "collapsed": false
   },
   "outputs": [
    {
     "data": {
      "text/plain": [
       "'house_qual'"
      ]
     },
     "execution_count": 12,
     "metadata": {},
     "output_type": "execute_result"
    }
   ],
   "source": [
    "col_name"
   ]
  },
  {
   "cell_type": "code",
   "execution_count": 17,
   "metadata": {
    "collapsed": false
   },
   "outputs": [
    {
     "data": {
      "text/plain": [
       "['REGIONC',\n",
       " 'DIVISION',\n",
       " 'REPORTABLE_DOMAIN',\n",
       " 'TYPEHUQ',\n",
       " 'Climate_Region_Pub',\n",
       " 'AIA_Zone',\n",
       " 'METROMICRO',\n",
       " 'UR',\n",
       " 'KOWNRENT',\n",
       " 'CONDCOOP',\n",
       " 'CONVERSION',\n",
       " 'ORIG1FAM',\n",
       " 'LOOKLIKE',\n",
       " 'WALLTYPE',\n",
       " 'ROOFTYPE',\n",
       " 'STORIES',\n",
       " 'BASEHT2',\n",
       " 'PCTBSTHT',\n",
       " 'BASECL2',\n",
       " 'PCTBSTCL',\n",
       " 'BASEUSE',\n",
       " 'ATTCHT2',\n",
       " 'PCTATTHT',\n",
       " 'ATTCCL2',\n",
       " 'PCTATTCL',\n",
       " 'ATTICUSE',\n",
       " 'GARGLOC',\n",
       " 'SIZEOFGARAGE',\n",
       " 'SIZEOFDETACH',\n",
       " 'FUELPOOL',\n",
       " 'FUELTUB',\n",
       " 'HELPCFL',\n",
       " 'HELPCFLY',\n",
       " 'WINDOWS',\n",
       " 'TYPEGLASS',\n",
       " 'NEWGLASS',\n",
       " 'HELPWIN',\n",
       " 'HELPWINY',\n",
       " 'ADQINSUL',\n",
       " 'AGEINS',\n",
       " 'HELPINS',\n",
       " 'HELPINSY',\n",
       " 'DRAFTY',\n",
       " 'AGEWS',\n",
       " 'HELPWS',\n",
       " 'HELPWSY',\n",
       " 'AGEAUD',\n",
       " 'HELPAUD',\n",
       " 'HELPAUDY',\n",
       " 'PELHEAT',\n",
       " 'PELHOTWA',\n",
       " 'PELCOOK',\n",
       " 'PELAC',\n",
       " 'PELLIGHT',\n",
       " 'OTHERWAYEL',\n",
       " 'PGASHEAT',\n",
       " 'PGASHTWA',\n",
       " 'PUGCOOK',\n",
       " 'PUGOTH',\n",
       " 'OTHERWAYNG',\n",
       " 'FOPAY',\n",
       " 'OTHERWAYFO',\n",
       " 'LPGPAY',\n",
       " 'OTHERWAYLPG',\n",
       " 'WOODAMT',\n",
       " 'IECC_Climate_Pub']"
      ]
     },
     "execution_count": 17,
     "metadata": {},
     "output_type": "execute_result"
    }
   ],
   "source": [
    "list_txt.replace('[','').replace(']','').split(',')"
   ]
  },
  {
   "cell_type": "code",
   "execution_count": null,
   "metadata": {
    "collapsed": true
   },
   "outputs": [],
   "source": []
  }
 ],
 "metadata": {
  "kernelspec": {
   "display_name": "Python [default]",
   "language": "python",
   "name": "python2"
  },
  "language_info": {
   "codemirror_mode": {
    "name": "ipython",
    "version": 2
   },
   "file_extension": ".py",
   "mimetype": "text/x-python",
   "name": "python",
   "nbconvert_exporter": "python",
   "pygments_lexer": "ipython2",
   "version": "2.7.13"
  }
 },
 "nbformat": 4,
 "nbformat_minor": 2
}
